{
 "cells": [
  {
   "cell_type": "markdown",
   "id": "bc087b22-8b52-4e05-bb62-620334aca166",
   "metadata": {},
   "source": [
    "# Undate: uncertain, incomplete, and partially-known dates\n",
    "\n",
    "A python library for working with dates in humanistic and cultural data.\n",
    "\n",
    "\n",
    "*(TODO: more context / background here)*"
   ]
  },
  {
   "cell_type": "markdown",
   "id": "6e87d4b3-0a92-4b74-8fe9-2b8390db762e",
   "metadata": {},
   "source": [
    "## Basic functionality\n",
    "\n",
    "Like Python's builtin `datetime.date` object, an `Undate` can be initialized by specifying numeric values for year, month, and day.\n",
    "\n",
    "We can print them using the default serialization (ISO8601, or YYYY-MM-DD), and we can compare them."
   ]
  },
  {
   "cell_type": "code",
   "execution_count": null,
   "id": "87def006-2b20-4368-96b0-477def8f0d37",
   "metadata": {},
   "outputs": [],
   "source": [
    "import datetime\n",
    "\n",
    "from IPython.display import display, Markdown\n",
    "from undate.undate import Undate\n",
    "\n",
    "# these are equivalent\n",
    "dt_november7 = datetime.date(2000, 11, 7)\n",
    "november7 = Undate(2000, 11, 7)"
   ]
  },
  {
   "cell_type": "markdown",
   "id": "5b3da2c6-1550-4d90-a798-bf22d8201ee6",
   "metadata": {},
   "source": [
    "We can print them out. By default, both of these dates will be displayed in ISO8601 format (YYYY-MM-DD)."
   ]
  },
  {
   "cell_type": "code",
   "execution_count": 29,
   "id": "1fdb5134-035c-4e01-b14e-093886ddcf87",
   "metadata": {},
   "outputs": [
    {
     "name": "stdout",
     "output_type": "stream",
     "text": [
      "2000-11-07\n"
     ]
    }
   ],
   "source": [
    "print(dt_november7)"
   ]
  },
  {
   "cell_type": "code",
   "execution_count": 30,
   "id": "29b3318c-f1b5-45e4-8d58-559557ea5197",
   "metadata": {},
   "outputs": [
    {
     "name": "stdout",
     "output_type": "stream",
     "text": [
      "2000-11-07\n"
     ]
    }
   ],
   "source": [
    "print(november7)"
   ]
  },
  {
   "cell_type": "markdown",
   "id": "2b635f18-5045-4259-b6c8-4199e9c81409",
   "metadata": {},
   "source": [
    "We can also compare them. Is this the same date?"
   ]
  },
  {
   "cell_type": "code",
   "execution_count": 33,
   "id": "75da5f12-0152-4d6a-8469-e29fc72759ad",
   "metadata": {},
   "outputs": [
    {
     "data": {
      "text/plain": [
       "True"
      ]
     },
     "execution_count": 33,
     "metadata": {},
     "output_type": "execute_result"
    }
   ],
   "source": [
    "bool(november7 == dt_november7) "
   ]
  },
  {
   "cell_type": "markdown",
   "id": "7fe9ec2b-7543-4e24-9b01-ad54cdc474eb",
   "metadata": {},
   "source": [
    "Unlike Python's `datetime.date`, an `Undate` can be initialized without providing all values for year, month, and day.\n",
    "\n",
    "We can create Undate instances for the month of November in 2000, for the year 2000, or even for November 7th in some unknown year.\n",
    "\n",
    "`Undate` also has an optional `label` field, since it's sometimes useful to attach a label to date."
   ]
  },
  {
   "cell_type": "code",
   "execution_count": 47,
   "id": "aa94d3b3-b619-4a94-a299-86006301f030",
   "metadata": {},
   "outputs": [],
   "source": [
    "# November 2000\n",
    "november = Undate(2000, 11, label=\"November 2000\")\n",
    "# Year 2000\n",
    "year2k = Undate(2000, label=\"Y2K\")\n",
    "# November 7 in an unknown year\n",
    "november7_some_year = Undate(month=11, day=7, label=\"Some November 7\")\n",
    "# let's reinitialize our first date with a label too\n",
    "november7 = Undate(2000, 11, 7, label=\"November 7, 2000\")\n",
    "\n",
    "# sometimes names are important\n",
    "easter1916 = Undate(1916, 4, 23, label=\"Easter 1916\")"
   ]
  },
  {
   "cell_type": "markdown",
   "id": "a66b0b73-54e2-49d8-be89-f7a4b726e255",
   "metadata": {},
   "source": [
    "Each of these `Undate` objects can be displayed in a standard format, and also has information about the precision of the date and duration information."
   ]
  },
  {
   "cell_type": "code",
   "execution_count": 46,
   "id": "337ad1ff-825c-4a89-8abe-10c0aa8d038a",
   "metadata": {},
   "outputs": [
    {
     "name": "stdout",
     "output_type": "stream",
     "text": [
      "\n",
      "November 2000: 2000-11\n",
      "Date precision: MONTH\n",
      "Duration in days: 30\n",
      "\n",
      "Y2K: 2000\n",
      "Date precision: YEAR\n",
      "Duration in days: 366\n",
      "\n",
      "Some November 7: --11-07\n",
      "Date precision: DAY\n",
      "Duration in days: 1\n",
      "\n",
      "November 7, 2000: 2000-11-07\n",
      "Date precision: DAY\n",
      "Duration in days: 1\n",
      "\n",
      "Easter 1916: 1916-04-23\n",
      "Date precision: DAY\n",
      "Duration in days: 1\n"
     ]
    }
   ],
   "source": [
    "for example_date in [november, year2k, november7_some_year, november7, easter1916]:\n",
    "    print(f\"\\n{example_date.label}: {example_date}\")\n",
    "    print(f\"Date precision: {example_date.precision}\")\n",
    "    print(f\"Duration in days: {example_date.duration().days}\")"
   ]
  },
  {
   "cell_type": "markdown",
   "id": "abce2425-408c-487a-9d37-7c22834c5737",
   "metadata": {},
   "source": [
    "We can also do some simple calculations, like whether one date falls within another date."
   ]
  },
  {
   "cell_type": "code",
   "execution_count": 52,
   "id": "0dcf4f1f-38e1-43f7-8d8a-2669a508c562",
   "metadata": {},
   "outputs": [
    {
     "data": {
      "text/plain": [
       "True"
      ]
     },
     "execution_count": 52,
     "metadata": {},
     "output_type": "execute_result"
    }
   ],
   "source": [
    "november in year2k"
   ]
  },
  {
   "cell_type": "code",
   "execution_count": 53,
   "id": "654d45bd-fa02-4b79-9dee-c25eaadb23f9",
   "metadata": {},
   "outputs": [
    {
     "data": {
      "text/plain": [
       "True"
      ]
     },
     "execution_count": 53,
     "metadata": {},
     "output_type": "execute_result"
    }
   ],
   "source": [
    "november7 in year2k"
   ]
  },
  {
   "cell_type": "code",
   "execution_count": 56,
   "id": "6966aba1-59ab-4ca0-98cd-bd2df4953f5d",
   "metadata": {},
   "outputs": [
    {
     "data": {
      "text/plain": [
       "True"
      ]
     },
     "execution_count": 56,
     "metadata": {},
     "output_type": "execute_result"
    }
   ],
   "source": [
    "november7 in november"
   ]
  },
  {
   "cell_type": "code",
   "execution_count": 55,
   "id": "62b262db-1a83-419b-b230-d5b3d0b2759d",
   "metadata": {},
   "outputs": [
    {
     "data": {
      "text/plain": [
       "False"
      ]
     },
     "execution_count": 55,
     "metadata": {},
     "output_type": "execute_result"
    }
   ],
   "source": [
    "easter1916 in year2k"
   ]
  },
  {
   "cell_type": "code",
   "execution_count": 54,
   "id": "00963683-6101-4db6-83dc-fb5b3640b329",
   "metadata": {},
   "outputs": [
    {
     "data": {
      "text/plain": [
       "False"
      ]
     },
     "execution_count": 54,
     "metadata": {},
     "output_type": "execute_result"
    }
   ],
   "source": [
    "november7_some_year in year2k"
   ]
  },
  {
   "cell_type": "markdown",
   "id": "414c1fea-3355-491f-a266-5d195e36a20a",
   "metadata": {},
   "source": [
    "## Partially unknown values\n",
    "\n",
    "We can also intialize an `Undate` object with string values, when a date is only partially known. We use the character `X` to indicate an unknown digit, following the notation used in the [Extended Date Time Format (EDTF)](https://www.loc.gov/standards/datetime/)."
   ]
  },
  {
   "cell_type": "code",
   "execution_count": 65,
   "id": "84800f62-4888-483d-9240-6a91dd454aa2",
   "metadata": {},
   "outputs": [
    {
     "name": "stdout",
     "output_type": "stream",
     "text": [
      "\n",
      "1900s: 19XX\n",
      "Date precision: YEAR\n",
      "\n",
      "late 2022: 2022-1X\n",
      "Date precision: MONTH\n"
     ]
    }
   ],
   "source": [
    "someyear_1900s = Undate(\"19XX\", label=\"1900s\")\n",
    "late2022 = Undate(2022, \"1X\", label=\"late 2022\")\n",
    "\n",
    "# FIXME: duration isn't right for year! and assumes max for month\n",
    "# can we get UnInt duration for both of these?\n",
    "\n",
    "for example_date in [someyear_1900s, late2022]:\n",
    "    print(f\"\\n{example_date.label}: {example_date}\")\n",
    "    print(f\"Date precision: {example_date.precision}\")\n",
    "    # print(f\"Duration in days: {example_date.duration().days}\")   # inaccurate! fix or omit?"
   ]
  },
  {
   "cell_type": "markdown",
   "id": "7a4d8fae-d9e6-49a5-9473-3c9045dad81e",
   "metadata": {},
   "source": [
    "When an `Undate` instance is initialized, internally the class calculates earliest and latest possible values for that date in the Gregorian calendar.\n",
    "\n",
    "This means that some comparisons are possible even without precise information.\n",
    "\n",
    "For instance, is a year sometime during the 1900s before a month in late 2022?"
   ]
  },
  {
   "cell_type": "code",
   "execution_count": 66,
   "id": "6c5bb093-0cca-4877-8462-86ace5c79f0a",
   "metadata": {},
   "outputs": [
    {
     "data": {
      "text/plain": [
       "True"
      ]
     },
     "execution_count": 66,
     "metadata": {},
     "output_type": "execute_result"
    }
   ],
   "source": [
    "someyear_1900s < late2022"
   ]
  },
  {
   "cell_type": "markdown",
   "id": "93d56057-649f-45cc-93d0-a14a758b8a12",
   "metadata": {},
   "source": [
    "But uncertain dates aren't equivalent:"
   ]
  },
  {
   "cell_type": "code",
   "execution_count": 67,
   "id": "e1523efd-1fdd-422c-bc5b-f924a4a55141",
   "metadata": {},
   "outputs": [
    {
     "data": {
      "text/plain": [
       "False"
      ]
     },
     "execution_count": 67,
     "metadata": {},
     "output_type": "execute_result"
    }
   ],
   "source": [
    "late2022 == Undate(2022, \"1X\")"
   ]
  }
 ],
 "metadata": {
  "kernelspec": {
   "display_name": "Python 3 (ipykernel)",
   "language": "python",
   "name": "python3"
  },
  "language_info": {
   "codemirror_mode": {
    "name": "ipython",
    "version": 3
   },
   "file_extension": ".py",
   "mimetype": "text/x-python",
   "name": "python",
   "nbconvert_exporter": "python",
   "pygments_lexer": "ipython3",
   "version": "3.12.7"
  }
 },
 "nbformat": 4,
 "nbformat_minor": 5
}
