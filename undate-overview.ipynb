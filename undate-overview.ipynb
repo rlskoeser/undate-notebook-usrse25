{
 "cells": [
  {
   "cell_type": "markdown",
   "id": "bc087b22-8b52-4e05-bb62-620334aca166",
   "metadata": {},
   "source": [
    "# Undate: uncertain, incomplete, and partially-known dates\n",
    "\n",
    "A python library for working with dates in humanistic and cultural data.\n",
    "\n",
    "\n",
    "*(TODO: more context / background here)*"
   ]
  },
  {
   "cell_type": "markdown",
   "id": "6e87d4b3-0a92-4b74-8fe9-2b8390db762e",
   "metadata": {},
   "source": [
    "## Basic functionality\n",
    "\n",
    "Like Python's builtin `datetime.date` object, an `Undate` can be initialized by specifying numeric values for year, month, and day.\n",
    "\n",
    "We can print them using the default serialization (ISO8601, or YYYY-MM-DD), and we can compare them."
   ]
  },
  {
   "cell_type": "code",
   "execution_count": 26,
   "id": "52053414-131b-46e7-ad8f-bfd6d206e960",
   "metadata": {},
   "outputs": [
    {
     "data": {
      "text/markdown": [
       "\n",
       "- `datetime.date` 2000-11-07\n",
       "- `undate.Undate` 2000-11-07\n",
       "\n",
       "Can we compare them?\n",
       "\n",
       "`november7 == dt_november7` = True\n"
      ],
      "text/plain": [
       "<IPython.core.display.Markdown object>"
      ]
     },
     "metadata": {},
     "output_type": "display_data"
    }
   ],
   "source": [
    "import datetime\n",
    "\n",
    "from IPython.display import display, Markdown\n",
    "from undate.undate import Undate\n",
    "\n",
    "# these are equivalent\n",
    "dt_november7 = datetime.date(2000, 11, 7)\n",
    "november7 = Undate(2000, 11, 7)\n",
    "\n",
    "display(Markdown(f\"\"\"\n",
    "- `datetime.date` {dt_november7}\n",
    "- `undate.Undate` {november7}\n",
    "\n",
    "Can we compare them?\n",
    "\n",
    "`november7 == dt_november7` = {november7 == dt_november7}\n",
    "\"\"\"))"
   ]
  },
  {
   "cell_type": "markdown",
   "id": "7fe9ec2b-7543-4e24-9b01-ad54cdc474eb",
   "metadata": {},
   "source": [
    "Unlike Python's `datetime.date`, an `Undate` can be initialized without providing all values for year, month, and day.\n",
    "\n",
    "We can create Undate instances for the month of November in 2000, for the year 2000, or even for November 7th in some unknown year."
   ]
  },
  {
   "cell_type": "code",
   "execution_count": null,
   "id": "aa94d3b3-b619-4a94-a299-86006301f030",
   "metadata": {},
   "outputs": [],
   "source": [
    "# November 2000\n",
    "november = Undate(2000, 11)\n",
    "# Year 2000\n",
    "year2k = Undate(2000)\n",
    "# Novebemr 7 in an unknown year\n",
    "november7_some_year = Undate(month=11, day=7)"
   ]
  },
  {
   "cell_type": "markdown",
   "id": "414c1fea-3355-491f-a266-5d195e36a20a",
   "metadata": {},
   "source": [
    "We can also intialize an `Undate` object with string values, when a date is only partially known. We use the character `X` to indicate an unknown digit, following the standard in the Extended Date Time Format (EDTF)."
   ]
  },
  {
   "cell_type": "code",
   "execution_count": null,
   "id": "84800f62-4888-483d-9240-6a91dd454aa2",
   "metadata": {},
   "outputs": [],
   "source": [
    "partially_known_year = Undate(\"19XX\")\n",
    "partially_known_month = Undate(2022, \"1X\")\n",
    "\n",
    "easter1916 = Undate(1916, 4, 23, label=\"Easter 1916\")"
   ]
  }
 ],
 "metadata": {
  "kernelspec": {
   "display_name": "Python 3 (ipykernel)",
   "language": "python",
   "name": "python3"
  },
  "language_info": {
   "codemirror_mode": {
    "name": "ipython",
    "version": 3
   },
   "file_extension": ".py",
   "mimetype": "text/x-python",
   "name": "python",
   "nbconvert_exporter": "python",
   "pygments_lexer": "ipython3",
   "version": "3.12.7"
  }
 },
 "nbformat": 4,
 "nbformat_minor": 5
}
