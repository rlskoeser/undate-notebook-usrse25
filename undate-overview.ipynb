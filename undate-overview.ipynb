{
 "cells": [
  {
   "cell_type": "markdown",
   "id": "bc087b22-8b52-4e05-bb62-620334aca166",
   "metadata": {},
   "source": [
    "# Undate: computing with uncertain and partially-unknown dates\n",
    "\n",
    "`Undate` is an ambitious, in-progress effort to develop a pragmatic Python library for computation and analysis of temporal information in humanistic and cultural data, with a particular emphasis on uncertain, incomplete, or imprecise dates and with support for multiple calendars.\n",
    "\n",
    "Researchers in the humanities often work with historical or cultural data, and knowing when particular materials were created or events happened is important for understanding the context, interpreting correctly, and determining relationships and sequencing. However, these kind of materials rarely have full precision dates with known year, month, and day. In some contexts, scholars may be happy if they can determine even just a century based on handwriting or mentions of historic coins.\n",
    "\n",
    "Humanistic and cultural data also often includes dates in different calendars, or even a mix of calendars within the same project or system. It's important to preserve the original date and calendar information, but it's also valuable to convert dates to a standard calendar so they can be compared and sorted together. `Undate` objects are calendar aware and calendar explicit, with a default of the Gregorian calendar. Currently, we support parsing and calendar conversion for dates in the Hebrew _Anno Mundi_ calendar and Islamic _Hijri_ calendar.\n",
    "\n",
    "This notebook demonstrates current use and functionality of the core `Undate` and `UndateInterval` objects, along with some examples and use-cases from specific projects.\n",
    "\n",
    "This notebook is based on undate version 0.4."
   ]
  },
  {
   "cell_type": "code",
   "execution_count": 312,
   "id": "8d7aee54-a4f7-4026-9cc8-fd62e7547395",
   "metadata": {},
   "outputs": [
    {
     "name": "stdout",
     "output_type": "stream",
     "text": [
      "0.4.0.dev0\n"
     ]
    }
   ],
   "source": [
    "from undate import __version__\n",
    "\n",
    "print(__version__)"
   ]
  },
  {
   "cell_type": "markdown",
   "id": "6e87d4b3-0a92-4b74-8fe9-2b8390db762e",
   "metadata": {},
   "source": [
    "## Basic functionality\n",
    "\n",
    "Like Python's builtin `datetime.date` object, an `Undate` can be initialized by specifying numeric values for year, month, and day.\n",
    "\n",
    "We can print them using the default serialization (ISO8601, or YYYY-MM-DD), and we can compare them."
   ]
  },
  {
   "cell_type": "code",
   "execution_count": 19,
   "id": "87def006-2b20-4368-96b0-477def8f0d37",
   "metadata": {},
   "outputs": [],
   "source": [
    "import datetime\n",
    "\n",
    "from undate import Undate\n",
    "\n",
    "# these are equivalent\n",
    "dt_november7 = datetime.date(2000, 11, 7)\n",
    "november7 = Undate(2000, 11, 7)"
   ]
  },
  {
   "cell_type": "markdown",
   "id": "5b3da2c6-1550-4d90-a798-bf22d8201ee6",
   "metadata": {},
   "source": [
    "We can print them out. By default, both of these dates will be displayed in ISO8601 format (YYYY-MM-DD)."
   ]
  },
  {
   "cell_type": "code",
   "execution_count": 20,
   "id": "1fdb5134-035c-4e01-b14e-093886ddcf87",
   "metadata": {},
   "outputs": [
    {
     "name": "stdout",
     "output_type": "stream",
     "text": [
      "2000-11-07\n"
     ]
    }
   ],
   "source": [
    "print(dt_november7)"
   ]
  },
  {
   "cell_type": "code",
   "execution_count": 21,
   "id": "29b3318c-f1b5-45e4-8d58-559557ea5197",
   "metadata": {},
   "outputs": [
    {
     "name": "stdout",
     "output_type": "stream",
     "text": [
      "2000-11-07\n"
     ]
    }
   ],
   "source": [
    "print(november7)"
   ]
  },
  {
   "cell_type": "markdown",
   "id": "2b635f18-5045-4259-b6c8-4199e9c81409",
   "metadata": {},
   "source": [
    "We can also compare them. Is this the same date?"
   ]
  },
  {
   "cell_type": "code",
   "execution_count": 22,
   "id": "75da5f12-0152-4d6a-8469-e29fc72759ad",
   "metadata": {},
   "outputs": [
    {
     "data": {
      "text/plain": [
       "True"
      ]
     },
     "execution_count": 22,
     "metadata": {},
     "output_type": "execute_result"
    }
   ],
   "source": [
    "bool(november7 == dt_november7) "
   ]
  },
  {
   "cell_type": "markdown",
   "id": "7fe9ec2b-7543-4e24-9b01-ad54cdc474eb",
   "metadata": {},
   "source": [
    "Unlike Python's `datetime.date`, an `Undate` can be initialized without providing all values for year, month, and day.\n",
    "\n",
    "We can create Undate instances for the month of November in 2000, for the year 2000, or even for November 7th in some unknown year.\n",
    "\n",
    "`Undate` also has an optional `label` field, since it's sometimes useful to attach a label to date."
   ]
  },
  {
   "cell_type": "code",
   "execution_count": 23,
   "id": "aa94d3b3-b619-4a94-a299-86006301f030",
   "metadata": {},
   "outputs": [],
   "source": [
    "# November 2000\n",
    "november = Undate(2000, 11, label=\"November 2000\")\n",
    "# Year 2000\n",
    "year2k = Undate(2000, label=\"Y2K\")\n",
    "# November 7 in an unknown year\n",
    "november7_some_year = Undate(month=11, day=7, label=\"Some November 7\")\n",
    "# let's reinitialize our first date with a label too\n",
    "november7 = Undate(2000, 11, 7, label=\"November 7, 2000\")\n",
    "\n",
    "# sometimes names are important\n",
    "easter1916 = Undate(1916, 4, 23, label=\"Easter 1916\")"
   ]
  },
  {
   "cell_type": "markdown",
   "id": "a66b0b73-54e2-49d8-be89-f7a4b726e255",
   "metadata": {},
   "source": [
    "Each of these `Undate` objects can be displayed in a standard format, and also has information about the precision of the date and duration information."
   ]
  },
  {
   "cell_type": "code",
   "execution_count": 24,
   "id": "337ad1ff-825c-4a89-8abe-10c0aa8d038a",
   "metadata": {},
   "outputs": [
    {
     "name": "stdout",
     "output_type": "stream",
     "text": [
      "\n",
      "November 2000: 2000-11\n",
      "Date precision: MONTH\n",
      "Duration in days: 30\n",
      "\n",
      "Y2K: 2000\n",
      "Date precision: YEAR\n",
      "Duration in days: 366\n",
      "\n",
      "Some November 7: --11-07\n",
      "Date precision: DAY\n",
      "Duration in days: 1\n",
      "\n",
      "November 7, 2000: 2000-11-07\n",
      "Date precision: DAY\n",
      "Duration in days: 1\n",
      "\n",
      "Easter 1916: 1916-04-23\n",
      "Date precision: DAY\n",
      "Duration in days: 1\n"
     ]
    }
   ],
   "source": [
    "for example_date in [november, year2k, november7_some_year, november7, easter1916]:\n",
    "    print(f\"\\n{example_date.label}: {example_date}\")\n",
    "    print(f\"Date precision: {example_date.precision}\")\n",
    "    print(f\"Duration in days: {example_date.duration().days}\")"
   ]
  },
  {
   "cell_type": "markdown",
   "id": "abce2425-408c-487a-9d37-7c22834c5737",
   "metadata": {},
   "source": [
    "We can also do some simple calculations, like checking whether one date falls within another date."
   ]
  },
  {
   "cell_type": "code",
   "execution_count": 25,
   "id": "0dcf4f1f-38e1-43f7-8d8a-2669a508c562",
   "metadata": {},
   "outputs": [
    {
     "data": {
      "text/plain": [
       "True"
      ]
     },
     "execution_count": 25,
     "metadata": {},
     "output_type": "execute_result"
    }
   ],
   "source": [
    "november in year2k"
   ]
  },
  {
   "cell_type": "code",
   "execution_count": 26,
   "id": "654d45bd-fa02-4b79-9dee-c25eaadb23f9",
   "metadata": {},
   "outputs": [
    {
     "data": {
      "text/plain": [
       "True"
      ]
     },
     "execution_count": 26,
     "metadata": {},
     "output_type": "execute_result"
    }
   ],
   "source": [
    "november7 in year2k"
   ]
  },
  {
   "cell_type": "code",
   "execution_count": 27,
   "id": "6966aba1-59ab-4ca0-98cd-bd2df4953f5d",
   "metadata": {},
   "outputs": [
    {
     "data": {
      "text/plain": [
       "True"
      ]
     },
     "execution_count": 27,
     "metadata": {},
     "output_type": "execute_result"
    }
   ],
   "source": [
    "november7 in november"
   ]
  },
  {
   "cell_type": "code",
   "execution_count": 28,
   "id": "62b262db-1a83-419b-b230-d5b3d0b2759d",
   "metadata": {},
   "outputs": [
    {
     "data": {
      "text/plain": [
       "False"
      ]
     },
     "execution_count": 28,
     "metadata": {},
     "output_type": "execute_result"
    }
   ],
   "source": [
    "easter1916 in year2k"
   ]
  },
  {
   "cell_type": "code",
   "execution_count": 29,
   "id": "00963683-6101-4db6-83dc-fb5b3640b329",
   "metadata": {},
   "outputs": [
    {
     "data": {
      "text/plain": [
       "False"
      ]
     },
     "execution_count": 29,
     "metadata": {},
     "output_type": "execute_result"
    }
   ],
   "source": [
    "november7_some_year in year2k"
   ]
  },
  {
   "cell_type": "markdown",
   "id": "414c1fea-3355-491f-a266-5d195e36a20a",
   "metadata": {},
   "source": [
    "## Partially unknown values\n",
    "\n",
    "We can also intialize an `Undate` object with string values, when a date is only partially known. We use the character **X** to indicate an unknown digit, following the notation used in the [Extended Date Time Format (EDTF)](https://www.loc.gov/standards/datetime/)."
   ]
  },
  {
   "cell_type": "code",
   "execution_count": 69,
   "id": "84800f62-4888-483d-9240-6a91dd454aa2",
   "metadata": {},
   "outputs": [
    {
     "name": "stdout",
     "output_type": "stream",
     "text": [
      "\n",
      "1900s: 19XX\n",
      "Date precision: YEAR\n",
      "\n",
      "late 2022: 2022-1X\n",
      "Date precision: MONTH\n"
     ]
    }
   ],
   "source": [
    "someyear_1900s = Undate(\"19XX\", label=\"1900s\")\n",
    "late2022 = Undate(2022, \"1X\", label=\"late 2022\")\n",
    "\n",
    "for example_date in [someyear_1900s, late2022]:\n",
    "    print(f\"\\n{example_date.label}: {example_date}\")\n",
    "    print(f\"Date precision: {example_date.precision}\")"
   ]
  },
  {
   "cell_type": "markdown",
   "id": "7a4d8fae-d9e6-49a5-9473-3c9045dad81e",
   "metadata": {},
   "source": [
    "When an `Undate` instance is initialized, internally the class calculates earliest and latest possible values for that date in the Gregorian calendar.\n",
    "\n",
    "This means that some comparisons are possible even without precise information.\n",
    "\n",
    "For instance, is a year sometime during the 1900s before a month in late 2022?"
   ]
  },
  {
   "cell_type": "code",
   "execution_count": 70,
   "id": "6c5bb093-0cca-4877-8462-86ace5c79f0a",
   "metadata": {},
   "outputs": [
    {
     "data": {
      "text/plain": [
       "True"
      ]
     },
     "execution_count": 70,
     "metadata": {},
     "output_type": "execute_result"
    }
   ],
   "source": [
    "someyear_1900s < late2022"
   ]
  },
  {
   "cell_type": "markdown",
   "id": "93d56057-649f-45cc-93d0-a14a758b8a12",
   "metadata": {},
   "source": [
    "But uncertain dates with the same initial values aren't equal, since they are uncertain:"
   ]
  },
  {
   "cell_type": "code",
   "execution_count": 32,
   "id": "e1523efd-1fdd-422c-bc5b-f924a4a55141",
   "metadata": {},
   "outputs": [
    {
     "data": {
      "text/plain": [
       "False"
      ]
     },
     "execution_count": 32,
     "metadata": {},
     "output_type": "execute_result"
    }
   ],
   "source": [
    "late2022 == Undate(2022, \"1X\")"
   ]
  },
  {
   "cell_type": "markdown",
   "id": "65abf930-4a74-40ae-ac1b-73461dac5166",
   "metadata": {},
   "source": [
    "The `Undate` class has properties to return `year`, `month`, and `day` if they are known. They are returned as strings to allow for partially unknown dates, and return `None` when a value is unknown.\n",
    "\n",
    "Here are some examples from the dates we created earlier."
   ]
  },
  {
   "cell_type": "code",
   "execution_count": 122,
   "id": "ababcae4-5f34-47a4-80f2-f7bbb2f5b42d",
   "metadata": {},
   "outputs": [],
   "source": [
    "# november7 = Undate(2000, 11, 7)\n",
    "assert november7.year == \"2000\"\n",
    "assert november7.month == \"11\"\n",
    "assert november7.day == \"07\"\n",
    "\n",
    "# year2k = Undate(2000, label=\"Y2K\")\n",
    "assert year2k.year == \"2000\"\n",
    "assert year2k.month is None\n",
    "assert year2k.day is None\n",
    "\n",
    "# someyear_1900s = Undate(\"19XX\", label=\"1900s\")\n",
    "assert someyear_1900s.year == \"19XX\""
   ]
  },
  {
   "cell_type": "markdown",
   "id": "a2813ef4-60b0-47e7-912e-63318f92072c",
   "metadata": {},
   "source": [
    "## Date Intervals\n",
    "\n",
    "Like many other date libraries, `undate` includes support for intervals.  An `UndateInterval` is a date range between two `Undate` objects. Intervals can be open-ended, allow for optional labels, and can calculate duration if enough information is known."
   ]
  },
  {
   "cell_type": "code",
   "execution_count": 77,
   "id": "d0dd53ab-67d2-44a3-9a6e-ca53cd3737ca",
   "metadata": {},
   "outputs": [
    {
     "data": {
      "text/plain": [
       "<UndateInterval '19th century' (1801/1900)>"
      ]
     },
     "execution_count": 77,
     "metadata": {},
     "output_type": "execute_result"
    }
   ],
   "source": [
    "from undate import UndateInterval\n",
    "\n",
    "nineteenth_c = UndateInterval(Undate(1801), Undate(1900), label=\"19th century\")\n",
    "nineteenth_c"
   ]
  },
  {
   "cell_type": "markdown",
   "id": "b56c2d48-c3d0-4baf-82ce-37a6bdd2f581",
   "metadata": {},
   "source": [
    "An `UndateInterval` has an earliest and a latest value for the start and end of the date range. Since those are `Undate` instances, they also have earliest and latest values.\n",
    "\n",
    "The duration of an interval is calculated based on the difference between the last day and first day in range."
   ]
  },
  {
   "cell_type": "code",
   "execution_count": 78,
   "id": "8932daf7-4973-4975-964a-6861ba0db5ca",
   "metadata": {},
   "outputs": [
    {
     "name": "stdout",
     "output_type": "stream",
     "text": [
      "1801-01-01\n"
     ]
    }
   ],
   "source": [
    "print(nineteenth_c.earliest.earliest)"
   ]
  },
  {
   "cell_type": "code",
   "execution_count": 82,
   "id": "b0a25cd5-c4f8-48e5-8877-941c6138ff66",
   "metadata": {},
   "outputs": [
    {
     "name": "stdout",
     "output_type": "stream",
     "text": [
      "1900-12-31\n"
     ]
    }
   ],
   "source": [
    "print(nineteenth_c.latest.latest)"
   ]
  },
  {
   "cell_type": "code",
   "execution_count": 83,
   "id": "ee56b434-6b38-4322-9c88-6332a4d53423",
   "metadata": {},
   "outputs": [
    {
     "data": {
      "text/plain": [
       "Timedelta(36524, dtype='timedelta64[D]')"
      ]
     },
     "execution_count": 83,
     "metadata": {},
     "output_type": "execute_result"
    }
   ],
   "source": [
    "nineteenth_c.duration()"
   ]
  },
  {
   "cell_type": "markdown",
   "id": "ca3f4a5b-77e6-421d-9fc2-038c400149f0",
   "metadata": {},
   "source": [
    "Intervals can also be open-ended.  Here are a couple of examples:"
   ]
  },
  {
   "cell_type": "code",
   "execution_count": 84,
   "id": "a98f37b1-8d1e-4b03-9c08-06a907addadf",
   "metadata": {},
   "outputs": [
    {
     "data": {
      "text/plain": [
       "<UndateInterval ../2000>"
      ]
     },
     "execution_count": 84,
     "metadata": {},
     "output_type": "execute_result"
    }
   ],
   "source": [
    "UndateInterval(latest=Undate(2000))  # before 2000"
   ]
  },
  {
   "cell_type": "code",
   "execution_count": 85,
   "id": "7b37e116-4566-4ad2-ae77-b82ffe77a6f0",
   "metadata": {},
   "outputs": [
    {
     "data": {
      "text/plain": [
       "<UndateInterval 1900/>"
      ]
     },
     "execution_count": 85,
     "metadata": {},
     "output_type": "execute_result"
    }
   ],
   "source": [
    "UndateInterval(Undate(1900))  # after 1900"
   ]
  },
  {
   "cell_type": "markdown",
   "id": "63b57d5a-aff4-41ff-962e-1e6b4171ae5a",
   "metadata": {},
   "source": [
    "## Parsing dates in supported formats\n",
    "\n",
    "Initializing an `Undate` directly with year, month, day values is useful, but often we want to parse text dates in known formats directly and work with them as data.\n",
    "\n",
    "The `undate` library has an extensive converter class ([`BaseDateConverter`](https://undate-python.readthedocs.io/en/latest/undate/converters.html)), which can be extended for parsing dates in specific formats and also for parsing and converting dates from other calendars.  Parsing is implemented with the Python library [Lark](https://lark-parser.readthedocs.io/en/stable/).\n",
    "\n",
    "Currently, we support ISO8601 and some portions of the Extended Date Time Format (EDTF).  "
   ]
  },
  {
   "cell_type": "markdown",
   "id": "3c1bde73-ad43-4188-9229-37ddf90a6624",
   "metadata": {},
   "source": [
    "### ISO8601\n",
    "\n",
    "**ISO 8601** is an international standard for dates (see [Wikipedia ISO 8601 entry](https://en.wikipedia.org/wiki/ISO_8601) for more details). For Calendar dates, this format uses the familiar **YYYY-MM-DD** notation for full dates, **YYYY-MM** for year and month. Some earlier versions of the specification allowed formats like **--MM-DD** for dates when month and day are known but the year is not.\n",
    "\n",
    "A converter can be used directly by the class, or can be parsed by the name of the converter.\n",
    "\n",
    "Here are some examples. In this case, we set the default converter to ISO8601 so that the string format will serialize the date back out to the original format."
   ]
  },
  {
   "cell_type": "code",
   "execution_count": 113,
   "id": "7deb8f2d-50b9-4524-a03e-a2ce29426a8e",
   "metadata": {},
   "outputs": [],
   "source": [
    "from undate.date import DatePrecision\n",
    "from undate.converters.iso8601 import ISO8601DateFormat\n",
    "\n",
    "# ensure output converter is ISO8601 (currently the default)\n",
    "Undate.DEFAULT_CONVERTER = \"ISO8601\"\n",
    "\n",
    "day = Undate.parse(\"1985-04-12\", \"ISO8601\")\n",
    "assert str(day) == \"1985-04-12\"\n",
    "assert day.precision == DatePrecision.DAY\n",
    "\n",
    "yearmonth = Undate.parse(\"1985-04\", \"ISO8601\")\n",
    "assert str(yearmonth) == \"1985-04\"\n",
    "assert yearmonth.precision == DatePrecision.MONTH\n",
    "\n",
    "year = Undate.parse(\"1985\", \"ISO8601\")\n",
    "assert str(year) == \"1985\"\n",
    "assert year.precision == DatePrecision.YEAR\n",
    "\n",
    "monthday = Undate.parse(\"--04-12\", \"ISO8601\")\n",
    "assert str(monthday) == \"--04-12\"\n",
    "assert monthday.precision == DatePrecision.DAY"
   ]
  },
  {
   "cell_type": "markdown",
   "id": "03e35176-2e87-4185-ab37-fd968f77e25c",
   "metadata": {},
   "source": [
    "If you try to parse something that isn't supported by the format or the parser, the method raises a `ValueError` exception with the error message from the parser."
   ]
  },
  {
   "cell_type": "code",
   "execution_count": 100,
   "id": "b731a281-51ac-40de-b0c6-e255a085e8c0",
   "metadata": {},
   "outputs": [
    {
     "name": "stdout",
     "output_type": "stream",
     "text": [
      "invalid literal for int() with base 10: '????'\n"
     ]
    }
   ],
   "source": [
    "try:\n",
    "    Undate.parse(\"????-04-12\", \"ISO8601\")\n",
    "except ValueError as err:\n",
    "    print(err)"
   ]
  },
  {
   "cell_type": "markdown",
   "id": "c19e1a58-81ce-4853-8cbe-83075869aa58",
   "metadata": {},
   "source": [
    "### Extendend Date Time Format\n",
    "\n",
    "Since the EDTF format includes both dates and intervals, parsing an EDTF can return either an `Undate` or an `UndateInterval`.  \n",
    "\n",
    "Here are some examples.   \n",
    "\n",
    "EDTF and ISO8601 use the same format for full precision day, year-month, and year dates."
   ]
  },
  {
   "cell_type": "code",
   "execution_count": 127,
   "id": "bb5e1d0f-703f-4359-8499-66ba7ec2aa98",
   "metadata": {},
   "outputs": [],
   "source": [
    "day = Undate.parse(\"1985-04-12\", \"EDTF\")\n",
    "assert day.format(\"EDTF\") == \"1985-04-12\"\n",
    "assert day.precision == DatePrecision.DAY\n",
    "\n",
    "yearmonth = Undate.parse(\"1985-04\", \"EDTF\")\n",
    "assert yearmonth.format(\"EDTF\") == \"1985-04\"\n",
    "assert yearmonth.precision == DatePrecision.MONTH\n",
    "\n",
    "year = Undate.parse(\"1985\", \"EDTF\")\n",
    "assert year.format(\"EDTF\") == \"1985\"\n",
    "assert year.precision == DatePrecision.YEAR"
   ]
  },
  {
   "cell_type": "markdown",
   "id": "917efe50-36ce-40b7-8150-1d3dbd3b3c95",
   "metadata": {},
   "source": [
    "EDTF uses **X** to indicate unspecified digits. Here's the example from above with an unknown year. \n",
    "\n",
    "If we specify a different formatter, we can output the date in a different format than we used for parsing."
   ]
  },
  {
   "cell_type": "code",
   "execution_count": 130,
   "id": "61404357-5491-446e-a5cd-74a403121aca",
   "metadata": {},
   "outputs": [],
   "source": [
    "monthday = Undate.parse(\"XXXX-04-12\", \"EDTF\")\n",
    "assert monthday.format(\"EDTF\") == \"XXXX-04-12\"\n",
    "assert monthday.format(\"ISO8601\") == \"--04-12\"\n",
    "assert monthday.precision == DatePrecision.DAY"
   ]
  },
  {
   "cell_type": "markdown",
   "id": "05a22cf6-83aa-422d-a9bb-1ed55629452e",
   "metadata": {},
   "source": [
    "The EDTF format includes notation for intervals; parsing an EDTF interval returns an `UndateInterval`. Here are some examples from the Library of Congress documentation on EDTF. Note that the start and end date of the interval don't have to use the same date precision."
   ]
  },
  {
   "cell_type": "code",
   "execution_count": 131,
   "id": "9c730984-a643-4f63-a1ac-e7959410e088",
   "metadata": {},
   "outputs": [],
   "source": [
    "# Example 1\n",
    "year_range = Undate.parse(\"1964/2008\", \"EDTF\")\n",
    "assert isinstance(year_range, UndateInterval)\n",
    "assert year_range.earliest == Undate(1964)\n",
    "assert year_range.latest == Undate(2008)\n",
    "# Example 2\n",
    "month_range = Undate.parse(\"2004-06/2006-08\", \"EDTF\")\n",
    "assert isinstance(month_range, UndateInterval)\n",
    "assert month_range.earliest == Undate(2004, 6)\n",
    "assert month_range.latest == Undate(2006, 8)\n",
    "# Example 3\n",
    "day_range = Undate.parse(\"2004-02-01/2005-02-08\", \"EDTF\")\n",
    "assert isinstance(day_range, UndateInterval)\n",
    "assert day_range.earliest == Undate(2004, 2, 1)\n",
    "assert day_range.latest == Undate(2005, 2, 8)\n",
    "# Example 4 \n",
    "day_month_range = Undate.parse(\"2004-02-01/2005-02\", \"EDTF\")\n",
    "assert isinstance(day_range, UndateInterval)\n",
    "assert day_month_range.earliest == Undate(2004, 2, 1)\n",
    "assert day_month_range.latest == Undate(2005, 2)\n",
    "assert day_month_range.earliest.precision == DatePrecision.DAY\n",
    "assert day_month_range.latest.precision == DatePrecision.MONTH\n",
    "# Example 5\n",
    "day_year_range = Undate.parse(\"2004-02-01/2005\", \"EDTF\")\n",
    "assert isinstance(day_range, UndateInterval)\n",
    "assert day_year_range.earliest == Undate(2004, 2, 1)\n",
    "assert day_year_range.latest == Undate(2005)\n",
    "assert day_year_range.earliest.precision == DatePrecision.DAY\n",
    "assert day_year_range.latest.precision == DatePrecision.YEAR\n",
    "# Example 6 \n",
    "year_month_range = Undate.parse(\"2005/2006-02\", \"EDTF\")\n",
    "assert isinstance(year_month_range, UndateInterval)\n",
    "assert year_month_range.earliest == Undate(2005)\n",
    "assert year_month_range.latest == Undate(2006, 2)\n",
    "assert year_month_range.earliest.precision == DatePrecision.YEAR\n",
    "assert year_month_range.latest.precision == DatePrecision.MONTH"
   ]
  },
  {
   "cell_type": "markdown",
   "id": "9d613ca3-a0c1-404f-9a63-81d0766e3ab8",
   "metadata": {},
   "source": [
    "EDTF also supports open intervals. Here are some examples of those:"
   ]
  },
  {
   "cell_type": "code",
   "execution_count": 133,
   "id": "d132fc10-9b51-4882-a9d3-e6218d735cad",
   "metadata": {},
   "outputs": [],
   "source": [
    "import datetime\n",
    "\n",
    "interval = Undate.parse(\"1985-04-12/..\", \"EDTF\")\n",
    "assert isinstance(interval, UndateInterval)\n",
    "assert interval.earliest == datetime.date(1985, 4, 12)\n",
    "assert interval.earliest.precision == DatePrecision.DAY\n",
    "assert interval.latest is None\n",
    "\n",
    "interval = Undate.parse(\"1985-04/..\", \"EDTF\")\n",
    "assert isinstance(interval, UndateInterval)\n",
    "assert interval.earliest == Undate(1985, 4)\n",
    "assert interval.earliest.precision == DatePrecision.MONTH\n",
    "assert interval.latest is None\n",
    "\n",
    "interval = Undate.parse(\"1985/..\", \"EDTF\")\n",
    "assert isinstance(interval, UndateInterval)\n",
    "assert interval.earliest == Undate(1985)\n",
    "assert interval.earliest.precision == DatePrecision.YEAR\n",
    "assert interval.latest is None"
   ]
  },
  {
   "cell_type": "markdown",
   "id": "097fc5b6-0a07-4303-94d5-40f0ab57fbd6",
   "metadata": {},
   "source": [
    "EDTF also supports negative years and years that are more than four digits; the **Y** prefix is used to indicate the number is a year."
   ]
  },
  {
   "cell_type": "code",
   "execution_count": 137,
   "id": "63914fa0-4e83-40e8-90fe-e8a7cdb1cd39",
   "metadata": {},
   "outputs": [],
   "source": [
    "neg_year = Undate.parse(\"-1985\", \"EDTF\")\n",
    "assert neg_year.year == \"-1985\"\n",
    "assert Undate(-1985).format(\"EDTF\") == \"-1985\"\n",
    "\n",
    "assert Undate.parse(\"Y170000002\", \"EDTF\").year == \"170000002\"\n",
    "assert Undate(170000002).format(\"EDTF\") == \"Y170000002\""
   ]
  },
  {
   "cell_type": "markdown",
   "id": "691d9b98-e5ab-4b9a-8804-20de3a6ee8fc",
   "metadata": {},
   "source": [
    "## Calendars\n",
    "\n",
    "`undate` includes a [BaseCalendarConverter](https://undate-python.readthedocs.io/en/latest/undate/converters.html#undate.converters.base.BaseCalendarConverter), as a special case of the `BaseDateConverter` for format parsing and conversion like ISO8601 and EDTF. In addition the `parse()` method that all converters must implement, calendar converters have logic for returning minimum and maximum month and day, first and last month as integers (since some calendars don't start the year on month 1), and a `to_gregorian()` method to convert into a standard Gregorian date. We use the [convertdate](https://github.com/fitnr/convertdate) Python library for the actual numeric conversion."
   ]
  },
  {
   "cell_type": "markdown",
   "id": "1f7c6d56-b20c-4c88-ad90-41708f924ad1",
   "metadata": {},
   "source": [
    "### Gregorian calendar\n",
    "\n",
    "An `Undate` instance always has a calendar defined; we use the Gregorian calendar if a calendar is not specified.\n",
    "\n",
    "Here's an example from one of the `Undate` instances we defined earlier:"
   ]
  },
  {
   "cell_type": "code",
   "execution_count": 139,
   "id": "c4468f2f-2987-46cb-932f-5bc32fa92e2f",
   "metadata": {},
   "outputs": [
    {
     "data": {
      "text/plain": [
       "<Calendar.GREGORIAN: 'gregorian'>"
      ]
     },
     "execution_count": 139,
     "metadata": {},
     "output_type": "execute_result"
    }
   ],
   "source": [
    "november7.calendar"
   ]
  },
  {
   "cell_type": "markdown",
   "id": "d9ad8037-d394-4f77-ad05-3f98d7be1d6d",
   "metadata": {},
   "source": [
    "### Islamic Hijri calendar"
   ]
  },
  {
   "cell_type": "code",
   "execution_count": 159,
   "id": "720f0125-8d31-4d38-83c6-ca95f4bd0c8f",
   "metadata": {},
   "outputs": [],
   "source": [
    "from undate import Calendar\n",
    "\n",
    "# Monday, 7 Jumādā I 1243 Hijrī (26 November, 1827 CE); Jumada I = month 5\n",
    "hijri_date = Undate.parse(\"7 Jumādā I 1243\", \"Hijri\") \n",
    "assert hijri_date == Undate(1243, 5, 7, calendar=\"Hijri\")\n",
    "assert hijri_date.calendar == Calendar.HIJRI\n",
    "assert hijri_date.precision == DatePrecision.DAY"
   ]
  },
  {
   "cell_type": "markdown",
   "id": "438986d7-a6e6-4e01-a7bc-00891c4b2e6b",
   "metadata": {},
   "source": [
    "We preserve the numeric values of the date in the original calendar, but internally `Undate` converts to Gregorian calendar for comparison with other days. "
   ]
  },
  {
   "cell_type": "code",
   "execution_count": 162,
   "id": "206995a5-5667-4433-8217-2c40ac5ad74c",
   "metadata": {},
   "outputs": [
    {
     "name": "stdout",
     "output_type": "stream",
     "text": [
      "1827-11-26\n"
     ]
    }
   ],
   "source": [
    "assert hijri_date.year == \"1243\"\n",
    "assert hijri_date.month == \"05\"\n",
    "assert hijri_date.day == \"07\"\n",
    "print(hijri_date.earliest)  # Gregorian equivalent"
   ]
  },
  {
   "cell_type": "markdown",
   "id": "6edaf716-58b0-4184-9f2a-9d8bddadf005",
   "metadata": {},
   "source": [
    "By default, the original text value of the parsed date and the calendar are presreved in the label of the `Undate` object:"
   ]
  },
  {
   "cell_type": "code",
   "execution_count": 184,
   "id": "e6075813-b746-4d2e-af79-15ad94227884",
   "metadata": {},
   "outputs": [
    {
     "name": "stdout",
     "output_type": "stream",
     "text": [
      "7 Jumādā I 1243 Hijrī\n"
     ]
    }
   ],
   "source": [
    "print(hijri_date.label)"
   ]
  },
  {
   "cell_type": "markdown",
   "id": "208d3683-4847-42d3-8b66-5f282d291138",
   "metadata": {},
   "source": [
    "As with other formats, we support different date precisions:"
   ]
  },
  {
   "cell_type": "code",
   "execution_count": 201,
   "id": "a4a6495f-8474-47a7-bb4f-8846fd5e5cda",
   "metadata": {},
   "outputs": [
    {
     "name": "stdout",
     "output_type": "stream",
     "text": [
      "1102-04-28/1102-05-27\n"
     ]
    }
   ],
   "source": [
    "from undate.date import Date\n",
    "\n",
    "# month and year only\n",
    "hijri_yearmonth = Undate.parse(\"Rajab 495\", \"Hijri\") \n",
    "assert hijri_yearmonth == Undate(495, 7, calendar=\"Hijri\")  # Rajab is month 7\n",
    "assert hijri_yearmonth.calendar == Calendar.HIJRI\n",
    "assert hijri_yearmonth.precision == DatePrecision.MONTH\n",
    " # Gregorian earliest/latest\n",
    "assert hijri_yearmonth.earliest == Date(1102, 4, 28)\n",
    "assert hijri_yearmonth.latest == Date(1102, 5, 27)\n",
    "print(f\"{hijri_yearmonth.earliest}/{hijri_yearmonth.latest}\")  # Gregorian date range"
   ]
  },
  {
   "cell_type": "code",
   "execution_count": 203,
   "id": "9288c4d0-e66e-4103-9754-e6ee169e2043",
   "metadata": {},
   "outputs": [
    {
     "name": "stdout",
     "output_type": "stream",
     "text": [
      "1049-06-11/1050-05-31\n"
     ]
    }
   ],
   "source": [
    "# year only\n",
    "hijri_year = Undate.parse(\"441\", \"Hijri\") \n",
    "assert hijri_year == Undate(441, calendar=\"Hijri\")\n",
    "assert hijri_year.calendar == Calendar.HIJRI\n",
    "assert hijri_year.precision == DatePrecision.YEAR\n",
    "# Gregorian earliest/ latest\n",
    "assert hijri_year.earliest == Date(1049, 6, 11)\n",
    "assert hijri_year.latest == Date(1050, 5, 31)\n",
    "print(f\"{hijri_year.earliest}/{hijri_year.latest}\")  # Gregorian date range"
   ]
  },
  {
   "cell_type": "markdown",
   "id": "b8076746-ab98-40cf-a1e0-602b085572d9",
   "metadata": {},
   "source": [
    "### Hebrew Anno Mundi calendar\n",
    "\n",
    "Support for the Hebrew calendar is similar to the Islamic."
   ]
  },
  {
   "cell_type": "code",
   "execution_count": 191,
   "id": "3a54a6bc-ebf4-42f5-b4c8-b3aef908298e",
   "metadata": {},
   "outputs": [
    {
     "name": "stdout",
     "output_type": "stream",
     "text": [
      "1056-07-17\n",
      "26 Tammuz 4816 Anno Mundi\n"
     ]
    }
   ],
   "source": [
    "# 26 Tammuz 4816: Tammuz = month 4 (17 July, 1056 Gregorian)\n",
    "hebrew_date = Undate.parse(\"26 Tammuz 4816\", \"Hebrew\") \n",
    "assert hebrew_date == Undate(4816, 4, 26, calendar=\"Hebrew\")\n",
    "assert hebrew_date.calendar == Calendar.HEBREW\n",
    "assert hebrew_date.precision == DatePrecision.DAY\n",
    "print(hebrew_date.earliest)  # Gregorian equivalent\n",
    "print(hebrew_date.label)"
   ]
  },
  {
   "cell_type": "code",
   "execution_count": 198,
   "id": "653ffa6a-2fcd-4262-a95a-66f8b066a1ad",
   "metadata": {},
   "outputs": [
    {
     "name": "stdout",
     "output_type": "stream",
     "text": [
      "1601-12-25/1602-01-22\n"
     ]
    }
   ],
   "source": [
    " # year month\n",
    "hebrew_yearmonth = Undate.parse(\"Ṭevet 5362\", \"Hebrew\") \n",
    "assert hebrew_yearmonth == Undate(5362, 10, calendar=\"Hebrew\")  # Teveth = month 10\n",
    "assert hebrew_yearmonth.calendar == Calendar.HEBREW\n",
    "assert hebrew_yearmonth.precision == DatePrecision.MONTH\n",
    "print(f\"{hebrew_yearmonth.earliest}/{hebrew_yearmonth.latest}\")  # Gregorian date range"
   ]
  },
  {
   "cell_type": "code",
   "execution_count": 199,
   "id": "4e404693-7039-45af-b3b7-424419a2d3fd",
   "metadata": {},
   "outputs": [
    {
     "name": "stdout",
     "output_type": "stream",
     "text": [
      "1171-09-09/1172-09-27\n"
     ]
    }
   ],
   "source": [
    "# year\n",
    "hebrew_year = Undate.parse(\"4932\", \"Hebrew\") \n",
    "assert hebrew_year == Undate(4932, calendar=\"Hebrew\")\n",
    "assert hebrew_year.calendar == Calendar.HEBREW\n",
    "assert hebrew_year.precision == DatePrecision.YEAR\n",
    "print(f\"{hebrew_year.earliest}/{hebrew_year.latest}\")  # Gregorian date range"
   ]
  },
  {
   "cell_type": "markdown",
   "id": "c924e0e8-8b68-4ff5-98cf-d5cd4ee8e6d1",
   "metadata": {},
   "source": [
    "Because we preserve the numeric date values in the original calendar, this means that two `Undate` objects with the same numeric day, month, and year values represent different dates if they use different calendars.  This also means that we can preserve the precision of the date in the original calendar (such as a month or a year), even when that doesnn't neatly map to a month or year in the Gregorian calendar, since they may have a different number of days.\n",
    "\n",
    "Since `Undate` converts to the common Gregorian calendar for comparison and determines earliest and latest possible dates, `Undate` instances with different calendars can be used together."
   ]
  },
  {
   "cell_type": "code",
   "execution_count": 231,
   "id": "f760d097-7d4c-482d-8b72-720c7c2e025e",
   "metadata": {},
   "outputs": [],
   "source": [
    "# 21 Rajab 1023 Hijrī (27 August 1614 CE) \n",
    "rajab21 = Undate.parse(\"21 Rajab 1023\", \"Hijri\")\n",
    "# 3 Tishrei 5370 Anno Mundi (1 October 1609 CE) \n",
    "tishrei3 = Undate.parse(\"3 Tishrei 5370\", \"Hebrew\")"
   ]
  },
  {
   "cell_type": "code",
   "execution_count": 215,
   "id": "a37c2cd4-6fb0-4d5b-878c-ce3b56c356a7",
   "metadata": {},
   "outputs": [
    {
     "data": {
      "text/plain": [
       "<Undate '21 Rajab 1023 Hijrī' 1023-07-21 (Hijri)>"
      ]
     },
     "execution_count": 215,
     "metadata": {},
     "output_type": "execute_result"
    }
   ],
   "source": [
    "rajab21"
   ]
  },
  {
   "cell_type": "code",
   "execution_count": 216,
   "id": "707cafc1-5f9d-43be-a133-9be2895caea9",
   "metadata": {},
   "outputs": [
    {
     "data": {
      "text/plain": [
       "<Undate '3 Tishrei 5370 Anno Mundi' 5370-07-03 (Hebrew)>"
      ]
     },
     "execution_count": 216,
     "metadata": {},
     "output_type": "execute_result"
    }
   ],
   "source": [
    "tishrei3"
   ]
  },
  {
   "cell_type": "code",
   "execution_count": 230,
   "id": "c2863068-7d29-4b77-b526-93c8e9633667",
   "metadata": {},
   "outputs": [
    {
     "data": {
      "text/html": [
       "<div>\n",
       "<style scoped>\n",
       "    .dataframe tbody tr th:only-of-type {\n",
       "        vertical-align: middle;\n",
       "    }\n",
       "\n",
       "    .dataframe tbody tr th {\n",
       "        vertical-align: top;\n",
       "    }\n",
       "\n",
       "    .dataframe thead th {\n",
       "        text-align: right;\n",
       "    }\n",
       "</style>\n",
       "<table border=\"1\" class=\"dataframe\">\n",
       "  <thead>\n",
       "    <tr style=\"text-align: right;\">\n",
       "      <th></th>\n",
       "      <th>text</th>\n",
       "      <th>calendar</th>\n",
       "      <th>numeric</th>\n",
       "      <th>undate</th>\n",
       "      <th>undate_str</th>\n",
       "      <th>precision</th>\n",
       "      <th>earliest_gregorian</th>\n",
       "      <th>latest_gregorian</th>\n",
       "      <th>duration</th>\n",
       "    </tr>\n",
       "  </thead>\n",
       "  <tbody>\n",
       "    <tr>\n",
       "      <th>0</th>\n",
       "      <td>21 Rajab 1023</td>\n",
       "      <td>Hijri</td>\n",
       "      <td>(1023, 7, 21)</td>\n",
       "      <td>1023-07-21</td>\n",
       "      <td>Undate(1023, 7, 21, calendar='Hijri')</td>\n",
       "      <td>day</td>\n",
       "      <td>1614-08-27</td>\n",
       "      <td>1614-08-27</td>\n",
       "      <td>1</td>\n",
       "    </tr>\n",
       "    <tr>\n",
       "      <th>1</th>\n",
       "      <td>Rajab 1023</td>\n",
       "      <td>Hijri</td>\n",
       "      <td>(1023, 7)</td>\n",
       "      <td>1023-07</td>\n",
       "      <td>Undate(1023, 7, calendar='Hijri')</td>\n",
       "      <td>month</td>\n",
       "      <td>1614-08-07</td>\n",
       "      <td>1614-09-05</td>\n",
       "      <td>30</td>\n",
       "    </tr>\n",
       "    <tr>\n",
       "      <th>2</th>\n",
       "      <td>1023</td>\n",
       "      <td>Hijri</td>\n",
       "      <td>(1023,)</td>\n",
       "      <td>1023</td>\n",
       "      <td>Undate(1023, calendar='Hijri')</td>\n",
       "      <td>year</td>\n",
       "      <td>1614-02-11</td>\n",
       "      <td>1615-01-30</td>\n",
       "      <td>354</td>\n",
       "    </tr>\n",
       "    <tr>\n",
       "      <th>3</th>\n",
       "      <td>3 Tishrei 5370</td>\n",
       "      <td>Hebrew</td>\n",
       "      <td>(5370, 7, 3)</td>\n",
       "      <td>5370-07-03</td>\n",
       "      <td>Undate(5370, 7, 3, calendar='Hebrew')</td>\n",
       "      <td>day</td>\n",
       "      <td>1609-10-01</td>\n",
       "      <td>1609-10-01</td>\n",
       "      <td>1</td>\n",
       "    </tr>\n",
       "    <tr>\n",
       "      <th>4</th>\n",
       "      <td>Tishrei 5370</td>\n",
       "      <td>Hebrew</td>\n",
       "      <td>(5370, 7)</td>\n",
       "      <td>5370-07</td>\n",
       "      <td>Undate(5370, 7, calendar='Hebrew')</td>\n",
       "      <td>month</td>\n",
       "      <td>1609-09-29</td>\n",
       "      <td>1609-10-28</td>\n",
       "      <td>30</td>\n",
       "    </tr>\n",
       "    <tr>\n",
       "      <th>5</th>\n",
       "      <td>5370</td>\n",
       "      <td>Hebrew</td>\n",
       "      <td>(5370,)</td>\n",
       "      <td>5370</td>\n",
       "      <td>Undate(5370, calendar='Hebrew')</td>\n",
       "      <td>year</td>\n",
       "      <td>1609-09-29</td>\n",
       "      <td>1610-09-17</td>\n",
       "      <td>354</td>\n",
       "    </tr>\n",
       "    <tr>\n",
       "      <th>6</th>\n",
       "      <td>2 June 1663</td>\n",
       "      <td>Gregorian</td>\n",
       "      <td>(1663, 6, 2)</td>\n",
       "      <td>1663-06-02</td>\n",
       "      <td>Undate(1663, 6, 2, calendar='Gregorian')</td>\n",
       "      <td>day</td>\n",
       "      <td>1663-06-02</td>\n",
       "      <td>1663-06-02</td>\n",
       "      <td>1</td>\n",
       "    </tr>\n",
       "    <tr>\n",
       "      <th>7</th>\n",
       "      <td>June 1663</td>\n",
       "      <td>Gregorian</td>\n",
       "      <td>(1663, 6)</td>\n",
       "      <td>1663-06</td>\n",
       "      <td>Undate(1663, 6, calendar='Gregorian')</td>\n",
       "      <td>month</td>\n",
       "      <td>1663-06-01</td>\n",
       "      <td>1663-06-30</td>\n",
       "      <td>30</td>\n",
       "    </tr>\n",
       "    <tr>\n",
       "      <th>8</th>\n",
       "      <td>1663</td>\n",
       "      <td>Gregorian</td>\n",
       "      <td>(1663,)</td>\n",
       "      <td>1663</td>\n",
       "      <td>Undate(1663, calendar='Gregorian')</td>\n",
       "      <td>year</td>\n",
       "      <td>1663-01-01</td>\n",
       "      <td>1663-12-31</td>\n",
       "      <td>365</td>\n",
       "    </tr>\n",
       "  </tbody>\n",
       "</table>\n",
       "</div>"
      ],
      "text/plain": [
       "             text   calendar        numeric      undate  \\\n",
       "0   21 Rajab 1023      Hijri  (1023, 7, 21)  1023-07-21   \n",
       "1      Rajab 1023      Hijri      (1023, 7)     1023-07   \n",
       "2            1023      Hijri        (1023,)        1023   \n",
       "3  3 Tishrei 5370     Hebrew   (5370, 7, 3)  5370-07-03   \n",
       "4    Tishrei 5370     Hebrew      (5370, 7)     5370-07   \n",
       "5            5370     Hebrew        (5370,)        5370   \n",
       "6     2 June 1663  Gregorian   (1663, 6, 2)  1663-06-02   \n",
       "7       June 1663  Gregorian      (1663, 6)     1663-06   \n",
       "8            1663  Gregorian        (1663,)        1663   \n",
       "\n",
       "                                 undate_str precision earliest_gregorian  \\\n",
       "0     Undate(1023, 7, 21, calendar='Hijri')       day         1614-08-27   \n",
       "1         Undate(1023, 7, calendar='Hijri')     month         1614-08-07   \n",
       "2            Undate(1023, calendar='Hijri')      year         1614-02-11   \n",
       "3     Undate(5370, 7, 3, calendar='Hebrew')       day         1609-10-01   \n",
       "4        Undate(5370, 7, calendar='Hebrew')     month         1609-09-29   \n",
       "5           Undate(5370, calendar='Hebrew')      year         1609-09-29   \n",
       "6  Undate(1663, 6, 2, calendar='Gregorian')       day         1663-06-02   \n",
       "7     Undate(1663, 6, calendar='Gregorian')     month         1663-06-01   \n",
       "8        Undate(1663, calendar='Gregorian')      year         1663-01-01   \n",
       "\n",
       "  latest_gregorian  duration  \n",
       "0       1614-08-27         1  \n",
       "1       1614-09-05        30  \n",
       "2       1615-01-30       354  \n",
       "3       1609-10-01         1  \n",
       "4       1609-10-28        30  \n",
       "5       1610-09-17       354  \n",
       "6       1663-06-02         1  \n",
       "7       1663-06-30        30  \n",
       "8       1663-12-31       365  "
      ]
     },
     "execution_count": 230,
     "metadata": {},
     "output_type": "execute_result"
    }
   ],
   "source": [
    "import pandas as pd\n",
    "\n",
    "calendars = [\"Gregorian\", \"Hebrew\", \"Hijri\"]\n",
    "\n",
    "calendar_dates = {\n",
    "    \"text\":  [\"21 Rajab 1023\", \"Rajab 1023\", \"1023\", \"3 Tishrei 5370\", \"Tishrei 5370\", \"5370\", \"2 June 1663\", \"June 1663\", \"1663\"],\n",
    "    \"calendar\": [\"Hijri\", \"Hijri\", \"Hijri\", \"Hebrew\", \"Hebrew\", \"Hebrew\", \"Gregorian\", \"Gregorian\", \"Gregorian\"],\n",
    "    # we pre-supply the numeric values int his case, since we don't yet have a text parser for Gregorian dates\n",
    "    \"numeric\": [(1023, 7, 21), (1023, 7), (1023,), (5370, 7, 3), (5370, 7), (5370,), (1663, 6, 2), (1663, 6), (1663,)]\n",
    "}\n",
    "\n",
    "cal_dates_df = pd.DataFrame.from_dict(calendar_dates)\n",
    "# initialize an undate by parsing text values with specified calendar\n",
    "cal_dates_df['undate'] = cal_dates_df.apply(lambda row: Undate(*row.numeric, calendar=row.calendar), axis=1)\n",
    "# string representation of how you would intiialize an undate object with numbers and calendar\n",
    "cal_dates_df['undate_str'] = cal_dates_df.apply(lambda row: f\"Undate({', '.join([str(n) for n in row.numeric])}, calendar='{row.calendar}')\", axis=1)\n",
    "cal_dates_df['precision'] = cal_dates_df.undate.apply(lambda x: str(x.precision).lower())\n",
    "cal_dates_df['earliest_gregorian'] = cal_dates_df.undate.apply(lambda x: x.earliest)\n",
    "cal_dates_df['latest_gregorian'] = cal_dates_df.undate.apply(lambda x: x.latest)\n",
    "cal_dates_df['duration'] = cal_dates_df.undate.apply(lambda x: x.duration().days)\n",
    "cal_dates_df"
   ]
  },
  {
   "cell_type": "markdown",
   "id": "5b8c853a-ab52-41e3-9a95-265d3dbd16dc",
   "metadata": {},
   "source": [
    "This table shows dates with varying precision from three different calendars, with their numeric values in the original calendar and earliest and latest Gregorian dates."
   ]
  },
  {
   "cell_type": "markdown",
   "id": "6f13da38-84d3-4c33-b0dd-31ed172926e0",
   "metadata": {},
   "source": [
    "* * *\n",
    "\n",
    "Because internally we convert to a common calendar, these dates can be used together."
   ]
  },
  {
   "cell_type": "code",
   "execution_count": 238,
   "id": "a80e726c-cb2f-49a7-a1b0-db56165d1b66",
   "metadata": {},
   "outputs": [
    {
     "data": {
      "text/plain": [
       "[<Undate '3 Tishrei 5370 Anno Mundi' 5370-07-03 (Hebrew)>,\n",
       " <Undate '21 Rajab 1023 Hijrī' 1023-07-21 (Hijri)>,\n",
       " <Undate 1663-06 (Gregorian)>]"
      ]
     },
     "execution_count": 238,
     "metadata": {},
     "output_type": "execute_result"
    }
   ],
   "source": [
    "june1663 = Undate(1663, 6)\n",
    "\n",
    "sorted_mix = sorted([rajab21, tishrei3, june1663])\n",
    "sorted_mix"
   ]
  },
  {
   "cell_type": "code",
   "execution_count": 239,
   "id": "2967fd64-cc77-4d2d-a234-59fa8a7623f6",
   "metadata": {},
   "outputs": [
    {
     "name": "stdout",
     "output_type": "stream",
     "text": [
      "[Date('1609-10-01', dtype='datetime64[D]'), Date('1614-08-27', dtype='datetime64[D]'), Date('1663-06-01', dtype='datetime64[D]')]\n"
     ]
    }
   ],
   "source": [
    "print([d.earliest for d in sorted_mix])"
   ]
  },
  {
   "cell_type": "markdown",
   "id": "a30b42db-08f0-4d67-a1c1-4f61812f93d7",
   "metadata": {},
   "source": [
    "## Implementation details \n",
    "\n",
    "Internally, we use `numpy.datetime64` and `numpy.timedelta64` to store converted dates; we implemented shims to make these objects look a bit more like the builtin python `datetime.date` and `datetime.timedelta` objects, since they are easier to work with and the first version of `undate` used them.\n",
    "\n",
    "We switched to `numpy` for dates so that we could support a wider range of years.  Python `datetime.date` only supports four-digit positive years (1-9999). "
   ]
  },
  {
   "cell_type": "code",
   "execution_count": 240,
   "id": "ba9f6c5b-d016-4123-a70a-1a74ebbce9ee",
   "metadata": {},
   "outputs": [
    {
     "data": {
      "text/plain": [
       "(1, 9999)"
      ]
     },
     "execution_count": 240,
     "metadata": {},
     "output_type": "execute_result"
    }
   ],
   "source": [
    "datetime.MINYEAR, datetime.MAXYEAR"
   ]
  },
  {
   "cell_type": "markdown",
   "id": "cea4499b-c00c-46af-84ce-ad0b981bec73",
   "metadata": {},
   "source": [
    "The popular data analysis library Pandas is much more limited - in spite of using `numpy.datetime64` internally, Pandas methods for parsing dates and converting to Timestamp objects don’t support dates before 1677AD.\n",
    "\n",
    "In contrast, `numpy.datetime64` supports a range of 2.5e16 BC, 2.5e16 AD (see [NumPy Datetime units documentation](https://numpy.org/doc/stable/reference/arrays.datetime.html#datetime-units))."
   ]
  },
  {
   "cell_type": "code",
   "execution_count": 241,
   "id": "b4172143-4c94-42c8-b479-3cc76acd42f7",
   "metadata": {},
   "outputs": [
    {
     "data": {
      "text/plain": [
       "(1677, 2262)"
      ]
     },
     "execution_count": 241,
     "metadata": {},
     "output_type": "execute_result"
    }
   ],
   "source": [
    "pd.Timestamp.min.year, pd.Timestamp.max.year"
   ]
  },
  {
   "cell_type": "markdown",
   "id": "75428702-0f78-4b47-a3f2-157cace2c03a",
   "metadata": {},
   "source": [
    "## Example use cases\n",
    "\n",
    "### Shakespeare and Company Project \n",
    "\n",
    "The [Shakespeare and Company Project](https://shakespeareandco.princeton.edu/) is a digital humanities research project based on records from Sylvia Beach’s famous 1920s and 1930s bookshop and lending library in Paris to reveal the reading practices of the influential writers, artists, intellectuals, and students who lived in Paris between the two world wars. Shakespeare and Company was an English-language lending library and bookshop, and Beach's papers include an incomplete set of lending library cards documenting what books members borrowed and when.\n",
    "\n",
    "This project is based on relatively recent materials, but in spite of that fact much of the infomration is imprecise and imperfect, as they were written by Beach and her assistants to run a business — they didn't always write full titles down because they knew what books they had available. And in some cases, they also didn't record the year for the borrowing records; for example, this portion of Gertrude Stein's borrowing history, which includes months and days but no years:\n",
    "\n",
    "![Gertrude Stein borrowing activity, unknown year](assets/stein_lendingcard_unknownyear.jpg)\n",
    "\n",
    "\n",
    "This project provides an example of how partially unknown dates can still be computationally useful. If we make the reasonable assumption that for borrowing activity like this, with an unknown year, books were returned in the same or following year, then we can calculate how long the books were borrowed and include them in analysis of library member activities.\n",
    "\n",
    "Here we demonstrate this using the borrowing events from a published Shakespeare and Company Project dataset."
   ]
  },
  {
   "cell_type": "code",
   "execution_count": 296,
   "id": "8fee781f-13a7-40d6-a84c-0a6541cc1c9f",
   "metadata": {},
   "outputs": [
    {
     "data": {
      "text/html": [
       "<div>\n",
       "<style scoped>\n",
       "    .dataframe tbody tr th:only-of-type {\n",
       "        vertical-align: middle;\n",
       "    }\n",
       "\n",
       "    .dataframe tbody tr th {\n",
       "        vertical-align: top;\n",
       "    }\n",
       "\n",
       "    .dataframe thead th {\n",
       "        text-align: right;\n",
       "    }\n",
       "</style>\n",
       "<table border=\"1\" class=\"dataframe\">\n",
       "  <thead>\n",
       "    <tr style=\"text-align: right;\">\n",
       "      <th></th>\n",
       "      <th>start_date</th>\n",
       "      <th>end_date</th>\n",
       "      <th>member_names</th>\n",
       "      <th>item_title</th>\n",
       "      <th>item_authors</th>\n",
       "    </tr>\n",
       "  </thead>\n",
       "  <tbody>\n",
       "    <tr>\n",
       "      <th>8</th>\n",
       "      <td>1923</td>\n",
       "      <td>1923-11-07</td>\n",
       "      <td>Eyre de Lanux / Mrs. Pierre de Lanux</td>\n",
       "      <td>Night and Day</td>\n",
       "      <td>Woolf, Virginia</td>\n",
       "    </tr>\n",
       "    <tr>\n",
       "      <th>10</th>\n",
       "      <td>1924</td>\n",
       "      <td>1924-10-22</td>\n",
       "      <td>Simone Téry</td>\n",
       "      <td>James Joyce, His First Forty Years</td>\n",
       "      <td>Gorman, Herbert Sherman</td>\n",
       "    </tr>\n",
       "    <tr>\n",
       "      <th>13</th>\n",
       "      <td>1924</td>\n",
       "      <td>1924-10-22</td>\n",
       "      <td>Simone Téry</td>\n",
       "      <td>A Portrait of George Moore in a Study of His Work</td>\n",
       "      <td>Freeman, John</td>\n",
       "    </tr>\n",
       "    <tr>\n",
       "      <th>20</th>\n",
       "      <td>1926</td>\n",
       "      <td>1926-01-14</td>\n",
       "      <td>Ada (Hitchcock) MacLeish;Archibald MacLeish</td>\n",
       "      <td>Tents of Israel</td>\n",
       "      <td>Stern, G. B.</td>\n",
       "    </tr>\n",
       "    <tr>\n",
       "      <th>31</th>\n",
       "      <td>1928</td>\n",
       "      <td>1928-06-18</td>\n",
       "      <td>Geoffrey Potocki de Montalk</td>\n",
       "      <td>James Joyce, His First Forty Years</td>\n",
       "      <td>Gorman, Herbert Sherman</td>\n",
       "    </tr>\n",
       "    <tr>\n",
       "      <th>36</th>\n",
       "      <td>1929</td>\n",
       "      <td>1929-03-13</td>\n",
       "      <td>Elvira de Alvear</td>\n",
       "      <td>Later Poems</td>\n",
       "      <td>Yeats, William Butler</td>\n",
       "    </tr>\n",
       "    <tr>\n",
       "      <th>43</th>\n",
       "      <td>1931</td>\n",
       "      <td>1931-01-10</td>\n",
       "      <td>James Joyce</td>\n",
       "      <td>Those Barren Leaves</td>\n",
       "      <td>Huxley, Aldous</td>\n",
       "    </tr>\n",
       "    <tr>\n",
       "      <th>48</th>\n",
       "      <td>1931</td>\n",
       "      <td>1931-01-10</td>\n",
       "      <td>James Joyce</td>\n",
       "      <td>The Crock of Gold</td>\n",
       "      <td>Stephens, James</td>\n",
       "    </tr>\n",
       "    <tr>\n",
       "      <th>49</th>\n",
       "      <td>1931</td>\n",
       "      <td>1931-01-10</td>\n",
       "      <td>James Joyce</td>\n",
       "      <td>The Horse-Stealers and Other Stories</td>\n",
       "      <td>Chekhov, Anton</td>\n",
       "    </tr>\n",
       "    <tr>\n",
       "      <th>50</th>\n",
       "      <td>1931</td>\n",
       "      <td>1931-01-10</td>\n",
       "      <td>James Joyce</td>\n",
       "      <td>Poems of Walter Scott</td>\n",
       "      <td>Scott, Walter</td>\n",
       "    </tr>\n",
       "  </tbody>\n",
       "</table>\n",
       "</div>"
      ],
      "text/plain": [
       "   start_date    end_date                                 member_names  \\\n",
       "8        1923  1923-11-07         Eyre de Lanux / Mrs. Pierre de Lanux   \n",
       "10       1924  1924-10-22                                  Simone Téry   \n",
       "13       1924  1924-10-22                                  Simone Téry   \n",
       "20       1926  1926-01-14  Ada (Hitchcock) MacLeish;Archibald MacLeish   \n",
       "31       1928  1928-06-18                  Geoffrey Potocki de Montalk   \n",
       "36       1929  1929-03-13                             Elvira de Alvear   \n",
       "43       1931  1931-01-10                                  James Joyce   \n",
       "48       1931  1931-01-10                                  James Joyce   \n",
       "49       1931  1931-01-10                                  James Joyce   \n",
       "50       1931  1931-01-10                                  James Joyce   \n",
       "\n",
       "                                           item_title             item_authors  \n",
       "8                                       Night and Day          Woolf, Virginia  \n",
       "10                 James Joyce, His First Forty Years  Gorman, Herbert Sherman  \n",
       "13  A Portrait of George Moore in a Study of His Work            Freeman, John  \n",
       "20                                    Tents of Israel             Stern, G. B.  \n",
       "31                 James Joyce, His First Forty Years  Gorman, Herbert Sherman  \n",
       "36                                        Later Poems    Yeats, William Butler  \n",
       "43                                Those Barren Leaves           Huxley, Aldous  \n",
       "48                                  The Crock of Gold          Stephens, James  \n",
       "49               The Horse-Stealers and Other Stories           Chekhov, Anton  \n",
       "50                              Poems of Walter Scott            Scott, Walter  "
      ]
     },
     "execution_count": 296,
     "metadata": {},
     "output_type": "execute_result"
    }
   ],
   "source": [
    "# load the 2.0 version of S&co events data from the assets folder \n",
    "events_df = pd.read_csv(\"assets/SCoData_events_v2.0_2025.csv\", low_memory=False)\n",
    "\n",
    "# filter the full dataset to just borrowing events\n",
    "borrow_events = events_df[events_df.event_type == 'Borrow']\n",
    "# limit the dataframe to relevant fields\n",
    "borrow_events = borrow_events[['start_date', 'end_date', 'member_names', 'item_title', 'item_authors']]\n",
    "# for convenience, filter to rows that have both start and end date\n",
    "borrow_events = borrow_events[borrow_events.start_date.notna() & borrow_events.end_date.notna()]\n",
    "borrow_events.head(10)"
   ]
  },
  {
   "cell_type": "code",
   "execution_count": 299,
   "id": "b78be62a-0ce3-4774-94b1-bf53ee372b27",
   "metadata": {},
   "outputs": [
    {
     "data": {
      "text/html": [
       "<div>\n",
       "<style scoped>\n",
       "    .dataframe tbody tr th:only-of-type {\n",
       "        vertical-align: middle;\n",
       "    }\n",
       "\n",
       "    .dataframe tbody tr th {\n",
       "        vertical-align: top;\n",
       "    }\n",
       "\n",
       "    .dataframe thead th {\n",
       "        text-align: right;\n",
       "    }\n",
       "</style>\n",
       "<table border=\"1\" class=\"dataframe\">\n",
       "  <thead>\n",
       "    <tr style=\"text-align: right;\">\n",
       "      <th></th>\n",
       "      <th>start_date</th>\n",
       "      <th>end_date</th>\n",
       "      <th>member_names</th>\n",
       "      <th>item_title</th>\n",
       "      <th>item_authors</th>\n",
       "      <th>start_undate</th>\n",
       "      <th>end_undate</th>\n",
       "    </tr>\n",
       "  </thead>\n",
       "  <tbody>\n",
       "    <tr>\n",
       "      <th>596</th>\n",
       "      <td>--01-16</td>\n",
       "      <td>--02-16</td>\n",
       "      <td>Robert D. Sage</td>\n",
       "      <td>Speculations: Essays on Humanism and the Philo...</td>\n",
       "      <td>Hulme, T. E.</td>\n",
       "      <td>--01-16</td>\n",
       "      <td>--02-16</td>\n",
       "    </tr>\n",
       "    <tr>\n",
       "      <th>597</th>\n",
       "      <td>--01-19</td>\n",
       "      <td>--01-24</td>\n",
       "      <td>Gertrude Stein</td>\n",
       "      <td>A Hazard of New Fortunes</td>\n",
       "      <td>Howells, William Dean</td>\n",
       "      <td>--01-19</td>\n",
       "      <td>--01-24</td>\n",
       "    </tr>\n",
       "    <tr>\n",
       "      <th>598</th>\n",
       "      <td>--01-24</td>\n",
       "      <td>--05-30</td>\n",
       "      <td>Gertrude Stein</td>\n",
       "      <td>Boston Cooking-School Cook Book</td>\n",
       "      <td>Farmer, Fannie Merritt</td>\n",
       "      <td>--01-24</td>\n",
       "      <td>--05-30</td>\n",
       "    </tr>\n",
       "    <tr>\n",
       "      <th>599</th>\n",
       "      <td>--01-24</td>\n",
       "      <td>--03-20</td>\n",
       "      <td>Gertrude Stein</td>\n",
       "      <td>The Landlord at Lion's Head: A Novel</td>\n",
       "      <td>Howells, William Dean</td>\n",
       "      <td>--01-24</td>\n",
       "      <td>--03-20</td>\n",
       "    </tr>\n",
       "    <tr>\n",
       "      <th>600</th>\n",
       "      <td>--01-24</td>\n",
       "      <td>--05-30</td>\n",
       "      <td>Gertrude Stein</td>\n",
       "      <td>Mrs. Rorer's New Cook Book: A Manual of Housek...</td>\n",
       "      <td>Rorer, Sarah Tyson</td>\n",
       "      <td>--01-24</td>\n",
       "      <td>--05-30</td>\n",
       "    </tr>\n",
       "    <tr>\n",
       "      <th>601</th>\n",
       "      <td>--01-24</td>\n",
       "      <td>--03-20</td>\n",
       "      <td>Gertrude Stein</td>\n",
       "      <td>Indian Summer</td>\n",
       "      <td>Howells, William Dean</td>\n",
       "      <td>--01-24</td>\n",
       "      <td>--03-20</td>\n",
       "    </tr>\n",
       "    <tr>\n",
       "      <th>602</th>\n",
       "      <td>--01-24</td>\n",
       "      <td>--03-20</td>\n",
       "      <td>Gertrude Stein</td>\n",
       "      <td>A Foregone Conclusion</td>\n",
       "      <td>Howells, William Dean</td>\n",
       "      <td>--01-24</td>\n",
       "      <td>--03-20</td>\n",
       "    </tr>\n",
       "    <tr>\n",
       "      <th>603</th>\n",
       "      <td>--01-24</td>\n",
       "      <td>--03-20</td>\n",
       "      <td>Gertrude Stein</td>\n",
       "      <td>Dr. Breen's Practice</td>\n",
       "      <td>Howells, William Dean</td>\n",
       "      <td>--01-24</td>\n",
       "      <td>--03-20</td>\n",
       "    </tr>\n",
       "    <tr>\n",
       "      <th>605</th>\n",
       "      <td>--01-29</td>\n",
       "      <td>--02-01</td>\n",
       "      <td>Valery Larbaud</td>\n",
       "      <td>The Turn of the Screw</td>\n",
       "      <td>James, Henry</td>\n",
       "      <td>--01-29</td>\n",
       "      <td>--02-01</td>\n",
       "    </tr>\n",
       "    <tr>\n",
       "      <th>613</th>\n",
       "      <td>--03-13</td>\n",
       "      <td>--04-27</td>\n",
       "      <td>Georges Michel Jean Fournery / M. Fournerey</td>\n",
       "      <td>Vogue's Book of Etiquette</td>\n",
       "      <td>NaN</td>\n",
       "      <td>--03-13</td>\n",
       "      <td>--04-27</td>\n",
       "    </tr>\n",
       "  </tbody>\n",
       "</table>\n",
       "</div>"
      ],
      "text/plain": [
       "    start_date end_date                                 member_names  \\\n",
       "596    --01-16  --02-16                               Robert D. Sage   \n",
       "597    --01-19  --01-24                               Gertrude Stein   \n",
       "598    --01-24  --05-30                               Gertrude Stein   \n",
       "599    --01-24  --03-20                               Gertrude Stein   \n",
       "600    --01-24  --05-30                               Gertrude Stein   \n",
       "601    --01-24  --03-20                               Gertrude Stein   \n",
       "602    --01-24  --03-20                               Gertrude Stein   \n",
       "603    --01-24  --03-20                               Gertrude Stein   \n",
       "605    --01-29  --02-01                               Valery Larbaud   \n",
       "613    --03-13  --04-27  Georges Michel Jean Fournery / M. Fournerey   \n",
       "\n",
       "                                            item_title  \\\n",
       "596  Speculations: Essays on Humanism and the Philo...   \n",
       "597                           A Hazard of New Fortunes   \n",
       "598                    Boston Cooking-School Cook Book   \n",
       "599               The Landlord at Lion's Head: A Novel   \n",
       "600  Mrs. Rorer's New Cook Book: A Manual of Housek...   \n",
       "601                                      Indian Summer   \n",
       "602                              A Foregone Conclusion   \n",
       "603                               Dr. Breen's Practice   \n",
       "605                              The Turn of the Screw   \n",
       "613                          Vogue's Book of Etiquette   \n",
       "\n",
       "               item_authors start_undate end_undate  \n",
       "596            Hulme, T. E.      --01-16    --02-16  \n",
       "597   Howells, William Dean      --01-19    --01-24  \n",
       "598  Farmer, Fannie Merritt      --01-24    --05-30  \n",
       "599   Howells, William Dean      --01-24    --03-20  \n",
       "600      Rorer, Sarah Tyson      --01-24    --05-30  \n",
       "601   Howells, William Dean      --01-24    --03-20  \n",
       "602   Howells, William Dean      --01-24    --03-20  \n",
       "603   Howells, William Dean      --01-24    --03-20  \n",
       "605            James, Henry      --01-29    --02-01  \n",
       "613                     NaN      --03-13    --04-27  "
      ]
     },
     "execution_count": 299,
     "metadata": {},
     "output_type": "execute_result"
    }
   ],
   "source": [
    "# parse start and end dates with Undate\n",
    "borrow_events['start_undate'] = borrow_events.start_date.apply(lambda x: Undate.parse(x, \"ISO8601\"))\n",
    "borrow_events['end_undate'] = borrow_events.end_date.apply(lambda x: Undate.parse(x, \"ISO8601\"))\n",
    "\n",
    "# add a column for date precision\n",
    "borrow_events['start_date_precision'] = borrow_events.start_undate.apply(lambda x: str(x.precision))\n",
    "borrow_events['end_date_precision'] = borrow_events.end_undate.apply(lambda x: str(x.precision))\n",
    "\n",
    "# filter to events with day-level date precision - this will eliminate year-only dates like those above, but preserve month-day dates\n",
    "borrow_events = borrow_events[(borrow_events.start_date_precision == 'DAY') & (borrow_events.end_date_precision == 'DAY')]\n",
    "# then drop the precision column (no longer useful)\n",
    "borrow_events = borrow_events.drop(columns=[\"start_date_precision\", \"end_date_precision\"])\n",
    "borrow_events.head(10)"
   ]
  },
  {
   "cell_type": "code",
   "execution_count": 305,
   "id": "b0759442-2c48-43b0-9508-f32ce6c700e4",
   "metadata": {},
   "outputs": [
    {
     "data": {
      "text/html": [
       "<div>\n",
       "<style scoped>\n",
       "    .dataframe tbody tr th:only-of-type {\n",
       "        vertical-align: middle;\n",
       "    }\n",
       "\n",
       "    .dataframe tbody tr th {\n",
       "        vertical-align: top;\n",
       "    }\n",
       "\n",
       "    .dataframe thead th {\n",
       "        text-align: right;\n",
       "    }\n",
       "</style>\n",
       "<table border=\"1\" class=\"dataframe\">\n",
       "  <thead>\n",
       "    <tr style=\"text-align: right;\">\n",
       "      <th></th>\n",
       "      <th>start_date</th>\n",
       "      <th>end_date</th>\n",
       "      <th>member_names</th>\n",
       "      <th>item_title</th>\n",
       "      <th>item_authors</th>\n",
       "      <th>start_undate</th>\n",
       "      <th>end_undate</th>\n",
       "      <th>duration_days</th>\n",
       "    </tr>\n",
       "  </thead>\n",
       "  <tbody>\n",
       "    <tr>\n",
       "      <th>1869</th>\n",
       "      <td>1922-01-06</td>\n",
       "      <td>1922-01-06</td>\n",
       "      <td>Blanche Pottier</td>\n",
       "      <td>Three Men in a Boat (To Say Nothing of the Dog)</td>\n",
       "      <td>Jerome, Jerome K.</td>\n",
       "      <td>1922-01-06</td>\n",
       "      <td>1922-01-06</td>\n",
       "      <td>1.0</td>\n",
       "    </tr>\n",
       "    <tr>\n",
       "      <th>2422</th>\n",
       "      <td>1922-10-06</td>\n",
       "      <td>1922-10-06</td>\n",
       "      <td>Katherine Mansfield</td>\n",
       "      <td>Poor White</td>\n",
       "      <td>Anderson, Sherwood</td>\n",
       "      <td>1922-10-06</td>\n",
       "      <td>1922-10-06</td>\n",
       "      <td>1.0</td>\n",
       "    </tr>\n",
       "    <tr>\n",
       "      <th>2873</th>\n",
       "      <td>1923-02-22</td>\n",
       "      <td>1923-02-22</td>\n",
       "      <td>Guy de Pourtales</td>\n",
       "      <td>Essays</td>\n",
       "      <td>Emerson, Ralph Waldo</td>\n",
       "      <td>1923-02-22</td>\n",
       "      <td>1923-02-22</td>\n",
       "      <td>1.0</td>\n",
       "    </tr>\n",
       "    <tr>\n",
       "      <th>4769</th>\n",
       "      <td>1924-12-03</td>\n",
       "      <td>1924-12-03</td>\n",
       "      <td>Andrée Valério / Mlle Valério</td>\n",
       "      <td>Elsie and the Child and Other Stories</td>\n",
       "      <td>Bennett, Arnold</td>\n",
       "      <td>1924-12-03</td>\n",
       "      <td>1924-12-03</td>\n",
       "      <td>1.0</td>\n",
       "    </tr>\n",
       "    <tr>\n",
       "      <th>5196</th>\n",
       "      <td>1925-04-17</td>\n",
       "      <td>1925-04-17</td>\n",
       "      <td>Glenway Wescott;Monroe Wheeler</td>\n",
       "      <td>The Dial</td>\n",
       "      <td>NaN</td>\n",
       "      <td>1925-04-17</td>\n",
       "      <td>1925-04-17</td>\n",
       "      <td>1.0</td>\n",
       "    </tr>\n",
       "    <tr>\n",
       "      <th>...</th>\n",
       "      <td>...</td>\n",
       "      <td>...</td>\n",
       "      <td>...</td>\n",
       "      <td>...</td>\n",
       "      <td>...</td>\n",
       "      <td>...</td>\n",
       "      <td>...</td>\n",
       "      <td>...</td>\n",
       "    </tr>\n",
       "    <tr>\n",
       "      <th>28839</th>\n",
       "      <td>1941-06-26</td>\n",
       "      <td>1941-06-26</td>\n",
       "      <td>Nicole (Canlorbe) Thellier de Poncheville / Ml...</td>\n",
       "      <td>The Grass Roof</td>\n",
       "      <td>Kang, Younghill</td>\n",
       "      <td>1941-06-26</td>\n",
       "      <td>1941-06-26</td>\n",
       "      <td>1.0</td>\n",
       "    </tr>\n",
       "    <tr>\n",
       "      <th>28978</th>\n",
       "      <td>1941-07-27</td>\n",
       "      <td>1941-07-27</td>\n",
       "      <td>Daphne Woodward</td>\n",
       "      <td>The Magic Lantern Murders (The Punch and Judy ...</td>\n",
       "      <td>Carr, John Dickson</td>\n",
       "      <td>1941-07-27</td>\n",
       "      <td>1941-07-27</td>\n",
       "      <td>1.0</td>\n",
       "    </tr>\n",
       "    <tr>\n",
       "      <th>29023</th>\n",
       "      <td>1941-07-31</td>\n",
       "      <td>1941-07-31</td>\n",
       "      <td>François Valéry</td>\n",
       "      <td>Poems</td>\n",
       "      <td>Emerson, Ralph Waldo</td>\n",
       "      <td>1941-07-31</td>\n",
       "      <td>1941-07-31</td>\n",
       "      <td>1.0</td>\n",
       "    </tr>\n",
       "    <tr>\n",
       "      <th>29139</th>\n",
       "      <td>1941-09-15</td>\n",
       "      <td>1941-09-15</td>\n",
       "      <td>Daphne Woodward</td>\n",
       "      <td>One's Company: A Journey to China</td>\n",
       "      <td>Fleming, Peter</td>\n",
       "      <td>1941-09-15</td>\n",
       "      <td>1941-09-15</td>\n",
       "      <td>1.0</td>\n",
       "    </tr>\n",
       "    <tr>\n",
       "      <th>29196</th>\n",
       "      <td>1941-09-25</td>\n",
       "      <td>1941-09-25</td>\n",
       "      <td>Albert Marie Yvan Colas des Francs / Commandan...</td>\n",
       "      <td>Doctor Martino and Other Stories</td>\n",
       "      <td>Faulkner, William</td>\n",
       "      <td>1941-09-25</td>\n",
       "      <td>1941-09-25</td>\n",
       "      <td>1.0</td>\n",
       "    </tr>\n",
       "  </tbody>\n",
       "</table>\n",
       "<p>97 rows × 8 columns</p>\n",
       "</div>"
      ],
      "text/plain": [
       "       start_date    end_date  \\\n",
       "1869   1922-01-06  1922-01-06   \n",
       "2422   1922-10-06  1922-10-06   \n",
       "2873   1923-02-22  1923-02-22   \n",
       "4769   1924-12-03  1924-12-03   \n",
       "5196   1925-04-17  1925-04-17   \n",
       "...           ...         ...   \n",
       "28839  1941-06-26  1941-06-26   \n",
       "28978  1941-07-27  1941-07-27   \n",
       "29023  1941-07-31  1941-07-31   \n",
       "29139  1941-09-15  1941-09-15   \n",
       "29196  1941-09-25  1941-09-25   \n",
       "\n",
       "                                            member_names  \\\n",
       "1869                                     Blanche Pottier   \n",
       "2422                                 Katherine Mansfield   \n",
       "2873                                    Guy de Pourtales   \n",
       "4769                       Andrée Valério / Mlle Valério   \n",
       "5196                      Glenway Wescott;Monroe Wheeler   \n",
       "...                                                  ...   \n",
       "28839  Nicole (Canlorbe) Thellier de Poncheville / Ml...   \n",
       "28978                                    Daphne Woodward   \n",
       "29023                                    François Valéry   \n",
       "29139                                    Daphne Woodward   \n",
       "29196  Albert Marie Yvan Colas des Francs / Commandan...   \n",
       "\n",
       "                                              item_title  \\\n",
       "1869     Three Men in a Boat (To Say Nothing of the Dog)   \n",
       "2422                                          Poor White   \n",
       "2873                                              Essays   \n",
       "4769               Elsie and the Child and Other Stories   \n",
       "5196                                            The Dial   \n",
       "...                                                  ...   \n",
       "28839                                     The Grass Roof   \n",
       "28978  The Magic Lantern Murders (The Punch and Judy ...   \n",
       "29023                                              Poems   \n",
       "29139                  One's Company: A Journey to China   \n",
       "29196                   Doctor Martino and Other Stories   \n",
       "\n",
       "               item_authors start_undate  end_undate  duration_days  \n",
       "1869      Jerome, Jerome K.   1922-01-06  1922-01-06            1.0  \n",
       "2422     Anderson, Sherwood   1922-10-06  1922-10-06            1.0  \n",
       "2873   Emerson, Ralph Waldo   1923-02-22  1923-02-22            1.0  \n",
       "4769        Bennett, Arnold   1924-12-03  1924-12-03            1.0  \n",
       "5196                    NaN   1925-04-17  1925-04-17            1.0  \n",
       "...                     ...          ...         ...            ...  \n",
       "28839       Kang, Younghill   1941-06-26  1941-06-26            1.0  \n",
       "28978    Carr, John Dickson   1941-07-27  1941-07-27            1.0  \n",
       "29023  Emerson, Ralph Waldo   1941-07-31  1941-07-31            1.0  \n",
       "29139        Fleming, Peter   1941-09-15  1941-09-15            1.0  \n",
       "29196     Faulkner, William   1941-09-25  1941-09-25            1.0  \n",
       "\n",
       "[97 rows x 8 columns]"
      ]
     },
     "execution_count": 305,
     "metadata": {},
     "output_type": "execute_result"
    }
   ],
   "source": [
    "borrow_events[borrow_events.start_date == borrow_events.end_date]"
   ]
  },
  {
   "cell_type": "code",
   "execution_count": 311,
   "id": "092453eb-e727-41e4-8b66-fd783d8d50da",
   "metadata": {},
   "outputs": [
    {
     "data": {
      "text/html": [
       "<div>\n",
       "<style scoped>\n",
       "    .dataframe tbody tr th:only-of-type {\n",
       "        vertical-align: middle;\n",
       "    }\n",
       "\n",
       "    .dataframe tbody tr th {\n",
       "        vertical-align: top;\n",
       "    }\n",
       "\n",
       "    .dataframe thead th {\n",
       "        text-align: right;\n",
       "    }\n",
       "</style>\n",
       "<table border=\"1\" class=\"dataframe\">\n",
       "  <thead>\n",
       "    <tr style=\"text-align: right;\">\n",
       "      <th></th>\n",
       "      <th>start_undate</th>\n",
       "      <th>end_undate</th>\n",
       "      <th>member_names</th>\n",
       "      <th>item_title</th>\n",
       "      <th>item_authors</th>\n",
       "      <th>duration_days</th>\n",
       "    </tr>\n",
       "  </thead>\n",
       "  <tbody>\n",
       "    <tr>\n",
       "      <th>596</th>\n",
       "      <td>--01-16</td>\n",
       "      <td>--02-16</td>\n",
       "      <td>Robert D. Sage</td>\n",
       "      <td>Speculations: Essays on Humanism and the Philo...</td>\n",
       "      <td>Hulme, T. E.</td>\n",
       "      <td>32</td>\n",
       "    </tr>\n",
       "    <tr>\n",
       "      <th>597</th>\n",
       "      <td>--01-19</td>\n",
       "      <td>--01-24</td>\n",
       "      <td>Gertrude Stein</td>\n",
       "      <td>A Hazard of New Fortunes</td>\n",
       "      <td>Howells, William Dean</td>\n",
       "      <td>6</td>\n",
       "    </tr>\n",
       "    <tr>\n",
       "      <th>598</th>\n",
       "      <td>--01-24</td>\n",
       "      <td>--05-30</td>\n",
       "      <td>Gertrude Stein</td>\n",
       "      <td>Boston Cooking-School Cook Book</td>\n",
       "      <td>Farmer, Fannie Merritt</td>\n",
       "      <td>127</td>\n",
       "    </tr>\n",
       "    <tr>\n",
       "      <th>599</th>\n",
       "      <td>--01-24</td>\n",
       "      <td>--03-20</td>\n",
       "      <td>Gertrude Stein</td>\n",
       "      <td>The Landlord at Lion's Head: A Novel</td>\n",
       "      <td>Howells, William Dean</td>\n",
       "      <td>56</td>\n",
       "    </tr>\n",
       "    <tr>\n",
       "      <th>600</th>\n",
       "      <td>--01-24</td>\n",
       "      <td>--05-30</td>\n",
       "      <td>Gertrude Stein</td>\n",
       "      <td>Mrs. Rorer's New Cook Book: A Manual of Housek...</td>\n",
       "      <td>Rorer, Sarah Tyson</td>\n",
       "      <td>127</td>\n",
       "    </tr>\n",
       "    <tr>\n",
       "      <th>601</th>\n",
       "      <td>--01-24</td>\n",
       "      <td>--03-20</td>\n",
       "      <td>Gertrude Stein</td>\n",
       "      <td>Indian Summer</td>\n",
       "      <td>Howells, William Dean</td>\n",
       "      <td>56</td>\n",
       "    </tr>\n",
       "    <tr>\n",
       "      <th>602</th>\n",
       "      <td>--01-24</td>\n",
       "      <td>--03-20</td>\n",
       "      <td>Gertrude Stein</td>\n",
       "      <td>A Foregone Conclusion</td>\n",
       "      <td>Howells, William Dean</td>\n",
       "      <td>56</td>\n",
       "    </tr>\n",
       "    <tr>\n",
       "      <th>603</th>\n",
       "      <td>--01-24</td>\n",
       "      <td>--03-20</td>\n",
       "      <td>Gertrude Stein</td>\n",
       "      <td>Dr. Breen's Practice</td>\n",
       "      <td>Howells, William Dean</td>\n",
       "      <td>56</td>\n",
       "    </tr>\n",
       "    <tr>\n",
       "      <th>605</th>\n",
       "      <td>--01-29</td>\n",
       "      <td>--02-01</td>\n",
       "      <td>Valery Larbaud</td>\n",
       "      <td>The Turn of the Screw</td>\n",
       "      <td>James, Henry</td>\n",
       "      <td>4</td>\n",
       "    </tr>\n",
       "    <tr>\n",
       "      <th>613</th>\n",
       "      <td>--03-13</td>\n",
       "      <td>--04-27</td>\n",
       "      <td>Georges Michel Jean Fournery / M. Fournerey</td>\n",
       "      <td>Vogue's Book of Etiquette</td>\n",
       "      <td>NaN</td>\n",
       "      <td>46</td>\n",
       "    </tr>\n",
       "  </tbody>\n",
       "</table>\n",
       "</div>"
      ],
      "text/plain": [
       "    start_undate end_undate                                 member_names  \\\n",
       "596      --01-16    --02-16                               Robert D. Sage   \n",
       "597      --01-19    --01-24                               Gertrude Stein   \n",
       "598      --01-24    --05-30                               Gertrude Stein   \n",
       "599      --01-24    --03-20                               Gertrude Stein   \n",
       "600      --01-24    --05-30                               Gertrude Stein   \n",
       "601      --01-24    --03-20                               Gertrude Stein   \n",
       "602      --01-24    --03-20                               Gertrude Stein   \n",
       "603      --01-24    --03-20                               Gertrude Stein   \n",
       "605      --01-29    --02-01                               Valery Larbaud   \n",
       "613      --03-13    --04-27  Georges Michel Jean Fournery / M. Fournerey   \n",
       "\n",
       "                                            item_title  \\\n",
       "596  Speculations: Essays on Humanism and the Philo...   \n",
       "597                           A Hazard of New Fortunes   \n",
       "598                    Boston Cooking-School Cook Book   \n",
       "599               The Landlord at Lion's Head: A Novel   \n",
       "600  Mrs. Rorer's New Cook Book: A Manual of Housek...   \n",
       "601                                      Indian Summer   \n",
       "602                              A Foregone Conclusion   \n",
       "603                               Dr. Breen's Practice   \n",
       "605                              The Turn of the Screw   \n",
       "613                          Vogue's Book of Etiquette   \n",
       "\n",
       "               item_authors  duration_days  \n",
       "596            Hulme, T. E.             32  \n",
       "597   Howells, William Dean              6  \n",
       "598  Farmer, Fannie Merritt            127  \n",
       "599   Howells, William Dean             56  \n",
       "600      Rorer, Sarah Tyson            127  \n",
       "601   Howells, William Dean             56  \n",
       "602   Howells, William Dean             56  \n",
       "603   Howells, William Dean             56  \n",
       "605            James, Henry              4  \n",
       "613                     NaN             46  "
      ]
     },
     "execution_count": 311,
     "metadata": {},
     "output_type": "execute_result"
    }
   ],
   "source": [
    "def undate_duration(start, end):\n",
    "    # create an interval from start and end date, and return duration in days\n",
    "\n",
    "    # we have one case where the start date has a known year but the end date does not, which undate currently does not support\n",
    "    if start.known_year and not end.known_year:\n",
    "        # as a workaround, convert to an unknown year\n",
    "        start = Undate(month=start.month, day=start.day)\n",
    "    \n",
    "    try:\n",
    "        return UndateInterval(earliest=start, latest=end).duration().days\n",
    "    except ValueError as err: \n",
    "       # we have at least one case where a book was checked out and returned the same day\n",
    "        if str(start) == str(end):\n",
    "            return 1\n",
    "\n",
    "\n",
    "borrow_events['duration_days'] = borrow_events.apply(lambda row: undate_duration(row.start_undate, row.end_undate), axis=1)\n",
    "\n",
    "# subset fields to make display more intelligible\n",
    "borrow_events[[\"start_undate\", \"end_undate\", \"member_names\", \"item_title\", \"item_authors\", \"duration_days\"]].head(10)"
   ]
  },
  {
   "cell_type": "markdown",
   "id": "efd2b761-3f9f-4f2f-968f-fb54fd123b5b",
   "metadata": {},
   "source": [
    "Being able to calculate durations for partially known dates means they can be included in analysis and interpretation of member borrowing activity, such as books that were borrowed and returned quickly or checked out for longer times, and included in broader analysis of borrowing behavior across all library members or specific individuals."
   ]
  },
  {
   "cell_type": "markdown",
   "id": "7fe113df-43bb-40f7-aaf8-bae610658b7a",
   "metadata": {},
   "source": [
    "### Princeton Geniza Project"
   ]
  },
  {
   "cell_type": "code",
   "execution_count": null,
   "id": "bd356b61-1830-479b-bb01-d727a5879364",
   "metadata": {},
   "outputs": [],
   "source": []
  },
  {
   "cell_type": "markdown",
   "id": "d5a6aa54-afc6-4d5a-b6a7-6923a2f397a6",
   "metadata": {},
   "source": [
    "## Resources and References\n",
    "\n",
    "\n",
    "- _Shakespeare and Company Project_. 2020. Publisher: Center for Digital Humanities, Princeton University. https://shakespeareandco.princeton.edu/.\n",
    "- _Princeton Geniza Project_. 2022. Publisher: Center for Digital Humanities, Princeton University. https://geniza.princeton.edu/.\n",
    "- Library of Congress. 2019. Extended Date Time Format (EDTF) Specification. Library of Congress, February. Accessed March 30, 2025. https://www.loc.gov/standards/datetime/.\n",
    "- Koeser, Rebecca Sutton, Cole Crawford, Julia Damerow, Malte Vogl, and\n",
    "Robert Casties. 2024. Undate python library. https://doi.org/10.5281/ZENODO.11068867\n",
    "- Koeser, Rebecca Sutton, and Zoe LeBlanc. 2024. Missing Data, Speculative Reading. _Journal of Cultural Analytics_ 9, no. 2 (May). https://doi.org/10.22148/001c.116926\n",
    "- Koeser, Rebecca Sutton & Kotin, Joshua. (2025). Shakespeare and Company Project Datasets [Data set]. Version 2. Princeton University. https://doi.org/10.34770/kf6c-b079\n",
    "- Kotin, Joshua and Rebecca Sutton Koeser. 2022. Shakespeare and Company Project Data Sets. _Journal of Cultural Analytics_ 7, no. 1 (February). https://doi.org/10.22148/001c.32551"
   ]
  }
 ],
 "metadata": {
  "kernelspec": {
   "display_name": "Python 3 (ipykernel)",
   "language": "python",
   "name": "python3"
  },
  "language_info": {
   "codemirror_mode": {
    "name": "ipython",
    "version": 3
   },
   "file_extension": ".py",
   "mimetype": "text/x-python",
   "name": "python",
   "nbconvert_exporter": "python",
   "pygments_lexer": "ipython3",
   "version": "3.12.7"
  }
 },
 "nbformat": 4,
 "nbformat_minor": 5
}
